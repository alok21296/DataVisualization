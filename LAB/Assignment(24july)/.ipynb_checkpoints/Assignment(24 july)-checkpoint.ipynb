{
 "cells": [
  {
   "cell_type": "code",
   "execution_count": 6,
   "id": "3d3faf9a-7fa8-4b7d-8c72-0dea8238df0e",
   "metadata": {},
   "outputs": [
    {
     "name": "stdout",
     "output_type": "stream",
     "text": [
      "Total sales: 4350\n",
      "Average sales: 483.3333333333333\n"
     ]
    }
   ],
   "source": [
    "#Ques-1-Hi I am new to Python numpy. Can you generate some real world situations where I can use a nampy array with some source code.\n",
    "import numpy as np\n",
    "sales = np.array([150, 350, 400, 450, 500, 550, 600, 650, 700])\n",
    "totalsale = np.sum(sales)\n",
    "print(\"Total sales:\", totalsale)\n",
    "average_sales = np.mean(sales)\n",
    "print(\"Average sales:\", average_sales)"
   ]
  },
  {
   "cell_type": "code",
   "execution_count": 12,
   "id": "1eb44cc5-a7c7-4d20-910c-0441aa8fb6b7",
   "metadata": {},
   "outputs": [
    {
     "name": "stdout",
     "output_type": "stream",
     "text": [
      "Temperature Data (Week):\n",
      "[[15 20 18 14]\n",
      " [16 21 19 15]\n",
      " [14 22 17 13]\n",
      " [17 23 20 16]\n",
      " [18 24 21 17]\n",
      " [19 25 22 18]\n",
      " [20 26 23 19]]\n",
      "\n",
      "Noon Temperatures (Week):\n",
      "[20 21 22 23 24 25 26]\n",
      "\n",
      "Mean Temperature (Week): 19.0\n",
      "Max Temperature (Week): 26\n",
      "Min Temperature (Week): 13\n",
      "\n",
      "Mean Temperature (Time of Day): [17. 23. 20. 16.]\n",
      "Max Temperature (Time of Day): [20 26 23 19]\n",
      "Min Temperature (Time of Day): [14 20 17 13]\n",
      "\n",
      "Temperature on Day 3 (Evening): 17\n",
      "\n",
      "Reshaped Temperature Data (1D):\n",
      "[15 20 18 14 16 21 19 15 14 22 17 13 17 23 20 16 18 24 21 17 19 25 22 18\n",
      " 20 26 23 19]\n",
      "\n",
      "Reshaped Back to Original (Week):\n",
      "[[15 20 18 14]\n",
      " [16 21 19 15]\n",
      " [14 22 17 13]\n",
      " [17 23 20 16]\n",
      " [18 24 21 17]\n",
      " [19 25 22 18]\n",
      " [20 26 23 19]]\n"
     ]
    }
   ],
   "source": [
    "#Ques-2-Hi Let's create a real-life example involving weather data. Use NumPy to analyze temperature data for a week, perform slicing, \n",
    "#indexing, shaping, and reshaping operations, and calculate various statistics.\n",
    "import numpy as np\n",
    "# Temperature data\n",
    "temperature_data = np.array([\n",
    "    [15, 20, 18, 14],  \n",
    "    [16, 21, 19, 15],  \n",
    "    [14, 22, 17, 13],  \n",
    "    [17, 23, 20, 16],  \n",
    "    [18, 24, 21, 17],  \n",
    "    [19, 25, 22, 18],  \n",
    "    [20, 26, 23, 19]   \n",
    "])\n",
    "\n",
    "print(\"Temperature Data (Week):\")\n",
    "print(temperature_data)\n",
    "# Slicing\n",
    "noon_temperatures = temperature_data[:, 1]\n",
    "print(\"\\nNoon Temperatures (Week):\")\n",
    "print(noon_temperatures)\n",
    "# Calculating statistics\n",
    "\n",
    "mean_temperature_week = np.mean(temperature_data)\n",
    "print(\"\\nMean Temperature (Week):\", mean_temperature_week)\n",
    "\n",
    "max_temperature_week = np.max(temperature_data)\n",
    "print(\"Max Temperature (Week):\", max_temperature_week)\n",
    "\n",
    "min_temperature_week = np.min(temperature_data)\n",
    "print(\"Min Temperature (Week):\", min_temperature_week)\n",
    "\n",
    "mean_temperature_time_of_day = np.mean(temperature_data, axis=0)\n",
    "print(\"\\nMean Temperature (Time of Day):\", mean_temperature_time_of_day)\n",
    "\n",
    "max_temperature_time_of_day = np.max(temperature_data, axis=0)\n",
    "print(\"Max Temperature (Time of Day):\", max_temperature_time_of_day)\n",
    "\n",
    "min_temperature_time_of_day = np.min(temperature_data, axis=0)\n",
    "print(\"Min Temperature (Time of Day):\", min_temperature_time_of_day)\n",
    "\n",
    "# Indexing\n",
    "day3_evening_temperature = temperature_data[2, 2]\n",
    "print(\"\\nTemperature on Day 3 (Evening):\", day3_evening_temperature)\n",
    "\n",
    "# Reshaping \n",
    "temperature_data_reshaped = temperature_data.reshape(-1)\n",
    "print(\"\\nReshaped Temperature Data (1D):\")\n",
    "print(temperature_data_reshaped)\n",
    "\n",
    "# Reshaping\n",
    "temperature_data_original_shape = temperature_data_reshaped.reshape(7, 4)\n",
    "print(\"\\nReshaped Back to Original (Week):\")\n",
    "print(temperature_data_original_shape)\n"
   ]
  }
 ],
 "metadata": {
  "kernelspec": {
   "display_name": "Python 3 (ipykernel)",
   "language": "python",
   "name": "python3"
  },
  "language_info": {
   "codemirror_mode": {
    "name": "ipython",
    "version": 3
   },
   "file_extension": ".py",
   "mimetype": "text/x-python",
   "name": "python",
   "nbconvert_exporter": "python",
   "pygments_lexer": "ipython3",
   "version": "3.12.4"
  }
 },
 "nbformat": 4,
 "nbformat_minor": 5
}
