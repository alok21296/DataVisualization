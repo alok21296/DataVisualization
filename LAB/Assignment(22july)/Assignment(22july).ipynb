{
 "cells": [
  {
   "cell_type": "code",
   "execution_count": 28,
   "id": "0ddd547e-de96-4185-be37-e357cef25a92",
   "metadata": {},
   "outputs": [
    {
     "name": "stdin",
     "output_type": "stream",
     "text": [
      "Enter number 1: 43\n",
      "Enter number 2: 33\n"
     ]
    },
    {
     "name": "stdout",
     "output_type": "stream",
     "text": [
      "1.303030303030303\n"
     ]
    }
   ],
   "source": [
    "#Ques-1-Write a Python program to handle a ZeroDivisionError exception when dividing a number by zero.\n",
    "number1=int(input(\"Enter number 1:\"))\n",
    "number2=int(input(\"Enter number 2:\"))\n",
    "try:\n",
    "    print(number1/number2)\n",
    "except ZeroDivisionError as e:\n",
    "    print(\"Error occured:-\",e)"
   ]
  },
  {
   "cell_type": "code",
   "execution_count": 20,
   "id": "31484f62-54e6-4a74-9456-71f231dfc98a",
   "metadata": {},
   "outputs": [
    {
     "name": "stdin",
     "output_type": "stream",
     "text": [
      "Enter number 1: dfd\n"
     ]
    },
    {
     "name": "stdout",
     "output_type": "stream",
     "text": [
      "Error occured:- invalid literal for int() with base 10: 'dfd'\n"
     ]
    }
   ],
   "source": [
    "#Ques-2-Write a Python program that prompts the user to input an integer and raises a ValueError exception if the input is not a valid integer.\n",
    "number1=input(\"Enter number 1:\")\n",
    "try: \n",
    "    num = int(number1)\n",
    "    print(f\"You entered the integer: {num}\")\n",
    "except ValueError as e:\n",
    "    print(\"Error occured:-\",e)"
   ]
  },
  {
   "cell_type": "code",
   "execution_count": 22,
   "id": "0d909ade-8690-417e-9671-6e0b48ce909f",
   "metadata": {},
   "outputs": [
    {
     "name": "stdout",
     "output_type": "stream",
     "text": [
      "Error Occure:- [Errno 2] No such file or directory: 'abc.txt'\n"
     ]
    }
   ],
   "source": [
    "#Ques-3-Write a Python program that opens a file and handles a FileNotFoundError exception the file does not exist.\n",
    "try:\n",
    "    open(\"abc.txt\",'r')\n",
    "    print(\"File Opened\")\n",
    "\n",
    "except FileNotFoundError as e:\n",
    "    print(\"Error Occured:-\",e)"
   ]
  },
  {
   "cell_type": "code",
   "execution_count": 34,
   "id": "5bb31042-c6d5-4d57-b7a2-0ba652321d4c",
   "metadata": {},
   "outputs": [
    {
     "name": "stdin",
     "output_type": "stream",
     "text": [
      "Enter number 1: dfd\n",
      "Enter number 2: fd\n"
     ]
    },
    {
     "name": "stdout",
     "output_type": "stream",
     "text": [
      "Error Occured:- <class 'TypeError'>\n"
     ]
    }
   ],
   "source": [
    "#Ques-4-Write a Python program that prompts the user to input two numbers and raises a TypeError exception if the inputs are not numerical.\n",
    "number1=input(\"Enter number 1:\")\n",
    "number2=input(\"Enter number 2:\")\n",
    "try:\n",
    "    num1=float(number1)\n",
    "    num2=float(number2)\n",
    "    print(\"Numbers are \",num1,\"&\",num2)\n",
    "except ValueError:\n",
    "    print(\"Error Occured:-\",TypeError)"
   ]
  }
 ],
 "metadata": {
  "kernelspec": {
   "display_name": "Python 3 (ipykernel)",
   "language": "python",
   "name": "python3"
  },
  "language_info": {
   "codemirror_mode": {
    "name": "ipython",
    "version": 3
   },
   "file_extension": ".py",
   "mimetype": "text/x-python",
   "name": "python",
   "nbconvert_exporter": "python",
   "pygments_lexer": "ipython3",
   "version": "3.12.4"
  }
 },
 "nbformat": 4,
 "nbformat_minor": 5
}
