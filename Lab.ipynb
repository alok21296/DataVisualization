{
 "cells": [
  {
   "cell_type": "code",
   "execution_count": 25,
   "id": "2097ef89-b820-4f97-869b-d10808a714dc",
   "metadata": {},
   "outputs": [
    {
     "name": "stdout",
     "output_type": "stream",
     "text": [
      "Hello\n",
      "Hi\n",
      "I am alok singh\n"
     ]
    }
   ],
   "source": [
    "#Ques-1-Write a function in python to read the content from a text file \"ABC.txt\" line by line and display the same on the screen \n",
    "file_path=\"/Users/aloksingh/Desktop/DAVIS/LAB/ABC.txt\"\n",
    "file=open(file_path, 'r') \n",
    "# Read each line from the file\n",
    "for line in file:\n",
    "# Print each line to the screen\n",
    "    print(line, end='')"
   ]
  },
  {
   "cell_type": "code",
   "execution_count": 31,
   "id": "456fa237-8c47-4aff-8d36-82f1d33a22be",
   "metadata": {},
   "outputs": [
    {
     "name": "stdout",
     "output_type": "stream",
     "text": [
      "6\n"
     ]
    }
   ],
   "source": [
    "#Ques-2-Write a function in Python to count and display the total number of words in a text file \"ABC.bxt\"\n",
    "file_path=\"/Users/aloksingh/Desktop/DAVIS/LAB/ABC.txt\"\n",
    "file=open(file_path, 'r') \n",
    "text=file.read()\n",
    "words=text.split()\n",
    "print(len(words))"
   ]
  },
  {
   "cell_type": "code",
   "execution_count": 35,
   "id": "1d1f92d3-9202-466c-a445-105dd32f65f2",
   "metadata": {},
   "outputs": [
    {
     "name": "stdout",
     "output_type": "stream",
     "text": [
      "3\n"
     ]
    }
   ],
   "source": [
    "#Ques-3-Write a function in Python to count uppercase character in a text file \"ABC.txt\"\n",
    "file_path=\"/Users/aloksingh/Desktop/DAVIS/LAB/ABC.txt\"\n",
    "file=open(file_path, 'r') \n",
    "text=file.read()\n",
    "count=0\n",
    "for char in text:\n",
    "        # Check if the character is an uppercase letter\n",
    "    if char.isupper():\n",
    "        count += 1\n",
    "    \n",
    "print(count)"
   ]
  },
  {
   "cell_type": "code",
   "execution_count": 57,
   "id": "0661b80f-17f4-4928-81d2-9a3ccc3a82bf",
   "metadata": {},
   "outputs": [
    {
     "name": "stdout",
     "output_type": "stream",
     "text": [
      "Hi\n",
      "I\n",
      "am\n"
     ]
    }
   ],
   "source": [
    "#Ques-4-Write a function display_words) in python to read lines from a text file \"story.txt\", and display those words,\n",
    "#which are less than 4 characters.\n",
    "file_path=\"/Users/aloksingh/Desktop/DAVIS/LAB/story.txt\"\n",
    "file=open(file_path,\"r\") \n",
    "for line in file :\n",
    "    words=line.split()\n",
    "    for word in words:\n",
    "        if len(word)<4:\n",
    "            print(word)\n"
   ]
  },
  {
   "cell_type": "code",
   "execution_count": 95,
   "id": "3f65a183-32bd-49c2-b15c-c0d3d3ca7e85",
   "metadata": {},
   "outputs": [
    {
     "name": "stdout",
     "output_type": "stream",
     "text": [
      "3\n"
     ]
    }
   ],
   "source": [
    "#Ques-5-Write a program to count occurance of word \"INDIA\" in a text file INDIA.txt\n",
    "file_path=\"/Users/aloksingh/Desktop/DAVIS/LAB/INDIA.txt\"\n",
    "file=open(file_path,\"r\")\n",
    "count=0\n",
    "for line in file:\n",
    "    words=line.split()\n",
    "    for word in words:\n",
    "        word=word.strip(\"\")\n",
    "        if word.lower()==\"india\":\n",
    "            count+=1\n",
    "\n",
    "print(count)"
   ]
  },
  {
   "cell_type": "code",
   "execution_count": 87,
   "id": "0d765ce0-b1ab-46da-9a9a-027430ce0d65",
   "metadata": {},
   "outputs": [],
   "source": [
    "#Ques-6-Write a program to count and display the lines starting with \"T\" in a text file story.txt\n",
    "file_path=\"/Users/aloksingh/Desktop/DAVIS/LAB/story.txt\"\n",
    "file=open(file_path,\"r\")\n"
   ]
  },
  {
   "cell_type": "code",
   "execution_count": 79,
   "id": "6aa1d07e-997f-49d0-ad36-5cfbc6e9cdd8",
   "metadata": {},
   "outputs": [],
   "source": [
    "#Ques-7-Write a program to count number of consonant and vowels in \"Myfile.txt\"\n",
    "file_path=\"/Users/aloksingh/Desktop/DAVIS/LAB/Myfile.txt\"\n",
    "file=open(file_path,\"r\")"
   ]
  },
  {
   "cell_type": "code",
   "execution_count": null,
   "id": "7ba326f4-f7f3-4c8d-ac2d-f72c0a839d9f",
   "metadata": {},
   "outputs": [],
   "source": [
    "#Ques-8-Write a program to count and display number of words starting with \"i\" in a file Word.txt\n",
    "file_path=\"/Users/aloksingh/Desktop/DAVIS/LAB/Word.txt\"\n",
    "file=open(file_path,\"r\")"
   ]
  },
  {
   "cell_type": "code",
   "execution_count": null,
   "id": "20b731a2-97b5-4562-a7cc-ef9b0abbcd76",
   "metadata": {},
   "outputs": [],
   "source": [
    "#Ques-9-Write a program to display the lines having more than five words in a text file Notes.txt\n",
    "file_path=\"/Users/aloksingh/Desktop/DAVIS/LAB/Notes.txt\"\n",
    "file=open(file_path,\"r\")"
   ]
  },
  {
   "cell_type": "code",
   "execution_count": null,
   "id": "24ed0ac9-7ab8-428d-9d55-4cbfb5f2aea8",
   "metadata": {},
   "outputs": [],
   "source": [
    "#Ques-10-Write a program to create a binary fine \"Stu.dat\" and Enter students rollno. Name and Marks till the user wants.\n",
    "file_path=\"/Users/aloksingh/Desktop/DAVIS/LAB/Stu.dat\"\n",
    "file=open(file_path,\"r\")"
   ]
  },
  {
   "cell_type": "code",
   "execution_count": null,
   "id": "934ac1ce-6c59-4274-9362-5eb01b64ed28",
   "metadata": {},
   "outputs": [],
   "source": [
    "#Ques-11-Write a program to read a binary file \"Stu.dat\" and display the record of students having marks greater than 81\n",
    "file_path=\"/Users/aloksingh/Desktop/DAVIS/LAB/Stu.dat\"\n",
    "file=open(file_path,\"r\")"
   ]
  }
 ],
 "metadata": {
  "kernelspec": {
   "display_name": "Python 3 (ipykernel)",
   "language": "python",
   "name": "python3"
  },
  "language_info": {
   "codemirror_mode": {
    "name": "ipython",
    "version": 3
   },
   "file_extension": ".py",
   "mimetype": "text/x-python",
   "name": "python",
   "nbconvert_exporter": "python",
   "pygments_lexer": "ipython3",
   "version": "3.12.4"
  }
 },
 "nbformat": 4,
 "nbformat_minor": 5
}
