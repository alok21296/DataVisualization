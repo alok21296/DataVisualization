{
 "cells": [
  {
   "cell_type": "code",
   "execution_count": 11,
   "id": "8a5c7f89-7f07-4468-b56f-5bd4aa5ab012",
   "metadata": {},
   "outputs": [
    {
     "name": "stdout",
     "output_type": "stream",
     "text": [
      "[10, 20, 30, 40, 50]\n",
      "0    10\n",
      "1    20\n",
      "2    30\n",
      "3    40\n",
      "4    50\n",
      "dtype: int64\n",
      "<class 'pandas.core.series.Series'>\n"
     ]
    }
   ],
   "source": [
    "import pandas as pd\n",
    "data=[10,20,30,40,50]\n",
    "print(data)\n",
    "series=pd.Series(data)\n",
    "print(series)\n",
    "print(type(series))\n",
    "#indexing works here just like python and numpy\n"
   ]
  },
  {
   "cell_type": "code",
   "execution_count": 23,
   "id": "224c9c5b-ce2a-46fb-92ea-edc40e7a530d",
   "metadata": {},
   "outputs": [
    {
     "name": "stdout",
     "output_type": "stream",
     "text": [
      "January      1000\n",
      "February     2000\n",
      "March        3000\n",
      "April        4000\n",
      "May          5000\n",
      "June         6000\n",
      "July         4400\n",
      "August       3300\n",
      "September    2000\n",
      "October      1200\n",
      "November     4300\n",
      "December     5400\n",
      "dtype: int64\n"
     ]
    }
   ],
   "source": [
    "import pandas as pd\n",
    "months=['January','February','March','April','May','June','July','August','September','October','November','December']\n",
    "sales_data=[1000,2000,3000,4000,5000,6000,4400,3300,2000,1200,4300,5400]\n",
    "#Create a panda series with months as the index\n",
    "sales_series=pd.Series(sales_data,index=months)\n",
    "print(sales_series)"
   ]
  },
  {
   "cell_type": "code",
   "execution_count": 37,
   "id": "afbdc750-b673-4ebb-b2a9-5a3701faaa45",
   "metadata": {},
   "outputs": [
    {
     "name": "stdout",
     "output_type": "stream",
     "text": [
      "Before Adding:\n",
      "      Name  age\n",
      "0    Alice   22\n",
      "1      Bob   23\n",
      "2  Charlie   32\n",
      "3    david   22\n",
      "After Adding:\n",
      "      Name  age city\n",
      "0    Alice   22    a\n",
      "1      Bob   23    b\n",
      "2  Charlie   32    c\n",
      "3    david   22    d\n",
      "  \n",
      "Data frames after adding new frames\n",
      " \n",
      "      Name  age city Gender Grade\n",
      "0    Alice   22    a      M     A\n",
      "1      Bob   23    b      F     B\n",
      "2  Charlie   32    c      M     A\n",
      "3    david   22    d      M     B\n"
     ]
    }
   ],
   "source": [
    "import pandas as pd \n",
    "data={\n",
    "    'Name':['Alice','Bob','Charlie','david'],\n",
    "    'age':[22,23,32,22],\n",
    "    \n",
    "    \n",
    "}\n",
    "df=pd.DataFrame(data)\n",
    "print(\"Before Adding:\")\n",
    "print(df)\n",
    "print(\"After Adding:\")\n",
    "df['city']=['a','b','c','d']\n",
    "print(df)\n",
    "new_columns={\n",
    "    'Gender':['M','F','M','M'],\n",
    "    'Grade':['A','B','A','B']\n",
    "}\n",
    "df['Gender']=new_columns['Gender']\n",
    "df['Grade']=new_columns['Grade']\n",
    "print(\"  \")\n",
    "print(\"Data frames after adding new frames\")\n",
    "print(\" \")\n",
    "print(df)"
   ]
  },
  {
   "cell_type": "code",
   "execution_count": null,
   "id": "dc695756-255c-411c-b834-bf15091f18de",
   "metadata": {},
   "outputs": [],
   "source": [
    "#Insert method is used to insert column at a given specific position as ---df.insert(index,column_name,column_values)"
   ]
  }
 ],
 "metadata": {
  "kernelspec": {
   "display_name": "Python 3 (ipykernel)",
   "language": "python",
   "name": "python3"
  },
  "language_info": {
   "codemirror_mode": {
    "name": "ipython",
    "version": 3
   },
   "file_extension": ".py",
   "mimetype": "text/x-python",
   "name": "python",
   "nbconvert_exporter": "python",
   "pygments_lexer": "ipython3",
   "version": "3.12.4"
  }
 },
 "nbformat": 4,
 "nbformat_minor": 5
}
