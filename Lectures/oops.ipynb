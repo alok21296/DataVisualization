{
 "cells": [
  {
   "cell_type": "code",
   "execution_count": null,
   "id": "c1858623-8ee2-482d-b9a1-933c1d13fdc4",
   "metadata": {},
   "outputs": [],
   "source": [
    "#OOPS\n",
    "#1-Object and Classes \n",
    "# Object are instances of classes.\n",
    "# Classes are blueprint for creating objects.\\\n",
    "#2-Attribute and Methods\n",
    "#Function inside a class is called as method."
   ]
  },
  {
   "cell_type": "code",
   "execution_count": 34,
   "id": "3b6becb8-b0af-4826-8dbc-0926945fc5d3",
   "metadata": {},
   "outputs": [
    {
     "name": "stdout",
     "output_type": "stream",
     "text": [
      "Study 8 hrs abc 0\n"
     ]
    }
   ],
   "source": [
    "#Function and objects in python\n",
    "class Student:\n",
    "    name=\"abc\"\n",
    "    age=0\n",
    "    def study(arg):\n",
    "        print(\"Study 8 hrs\",arg.name,arg.age)\n",
    "\n",
    "abhi=Student() \n",
    "abhi.study()"
   ]
  },
  {
   "cell_type": "code",
   "execution_count": 51,
   "id": "1df991f1-93bf-4b77-9fc3-3bb35dcf21b3",
   "metadata": {},
   "outputs": [
    {
     "name": "stdout",
     "output_type": "stream",
     "text": [
      "This is a show function outside class\n",
      "Study 8 hrs\n"
     ]
    }
   ],
   "source": [
    "#We require self(Function argument) to call method of a given class\n",
    "def show():\n",
    "    print (\"This is a show function outside class\")\n",
    "\n",
    "class Student:\n",
    "    def study(self):\n",
    "        show()\n",
    "        # self.show()\n",
    "        print(\"Study 8 hrs\")\n",
    "    def show(self):\n",
    "        print(\"This is show method \")\n",
    "\n",
    "obj=Student()\n",
    "obj.study()"
   ]
  },
  {
   "cell_type": "code",
   "execution_count": 55,
   "id": "0f6db81a-54b6-4e34-aa55-395579d32f88",
   "metadata": {},
   "outputs": [
    {
     "name": "stdout",
     "output_type": "stream",
     "text": [
      "This is A class show method\n",
      "This is B class demo method\n"
     ]
    }
   ],
   "source": [
    "#Inheritance-The properties of a class are passed to another class ,this process is called as inheritance.\n",
    "#There are generally 5 types of inheritance:-\n",
    "#1-Single \n",
    "#2-Multilevel\n",
    "#3-Multiple\n",
    "#4-Hierarchical\n",
    "#5-Hybrid\n",
    "#Exaple Multilevel\n",
    "class A:\n",
    "    name=\"Anant\"\n",
    "    def show(self):\n",
    "        print(\"This is A class show method\")\n",
    "class B(A):\n",
    "    def demo(self):\n",
    "        print(\"This is B class demo method\")\n",
    "\n",
    "class C(B):\n",
    "    pass\n",
    "\n",
    "obj=C()\n",
    "obj.show()\n",
    "obj.demo()"
   ]
  },
  {
   "cell_type": "code",
   "execution_count": 61,
   "id": "2bf0eb9e-5897-47e3-91b7-a137b1b8ce88",
   "metadata": {},
   "outputs": [
    {
     "name": "stdout",
     "output_type": "stream",
     "text": [
      "This is A class show method\n",
      "This is B class demo method\n"
     ]
    }
   ],
   "source": [
    "#Hybrid Inheritance Example \n",
    "class A:\n",
    "    name=\"Anant\"\n",
    "    def show(self):\n",
    "        print(\"This is A class show method\")\n",
    "class B(A):\n",
    "    def demo(self):\n",
    "        print(\"This is B class demo method\")\n",
    "\n",
    "class C(A):\n",
    "    def methc(self):\n",
    "        print(\"This is method of C class\")\n",
    "class D(B,C):\n",
    "    def methd(self):\n",
    "        print(\"This is method of D class\")\n",
    "\n",
    "obj=D()\n",
    "obj.show()\n",
    "obj.demo()"
   ]
  },
  {
   "cell_type": "code",
   "execution_count": 12,
   "id": "4252aa53-359c-48c5-9e05-af7a4d56bfab",
   "metadata": {},
   "outputs": [
    {
     "name": "stdout",
     "output_type": "stream",
     "text": [
      "ID is  101\n",
      "Name is  Anudip\n",
      "Age is  20\n"
     ]
    }
   ],
   "source": [
    "#Polymorphism \n",
    "#Python do not support method overloading.\n",
    "#The new method overwrites the old one and accepts the parameters according to the new method.\n",
    "def setData(name,age):\n",
    "    print(\"Name is \",name)\n",
    "    print(\"Age is \",age)\n",
    "\n",
    "def setData(sid,name,age):\n",
    "    print(\"ID is \",sid)\n",
    "    print(\"Name is \",name)\n",
    "    print(\"Age is \",age) \n",
    "\n",
    "# setData(\"Sanjay\",25)#Error for less number of parameters.\n",
    "setData(101,\"Anudip\",20)"
   ]
  },
  {
   "cell_type": "code",
   "execution_count": 71,
   "id": "d599d3a8-791f-4106-970a-e1de016f0937",
   "metadata": {},
   "outputs": [
    {
     "name": "stdout",
     "output_type": "stream",
     "text": [
      "This is child house \n"
     ]
    }
   ],
   "source": [
    "#Function Overriding \n",
    "#Polymorphism lets us define methods in child class that have same name as the method in parent class.\n",
    "#In inheritance ,the child class inherits the methods from the parent class.However it is possible to modify a mehtod \n",
    "#in a child class that has inherited from the parent class.This is particularly usefu; in cases where the method inherited \n",
    "#from the paremt class doesn't quite fit the child class.in such cases,we reimplement the method in child class.\n",
    "#This process of reimplementation of a method in the child class is known as method overriding.\n",
    "class Parent:\n",
    "    def house(self):\n",
    "        print(\"This is parent house\")\n",
    "\n",
    "class Child(Parent):\n",
    "    def show(self):\n",
    "        print(\"This is show function \")\n",
    "\n",
    "    def house(self):\n",
    "        print(\"This is child house \")#The child change the method house according to its requirement.\n",
    "\n",
    "obj=Child()\n",
    "obj.house()"
   ]
  },
  {
   "cell_type": "code",
   "execution_count": 14,
   "id": "f7236aaf-3646-41e0-9ac3-0a6b055ea0e0",
   "metadata": {},
   "outputs": [
    {
     "name": "stdout",
     "output_type": "stream",
     "text": [
      "1\n",
      "2\n",
      "3\n",
      "4\n",
      "100.0\n",
      "File not found\n",
      "5\n",
      "6\n"
     ]
    }
   ],
   "source": [
    "#Python Exception Handling\n",
    "#If we want to handle multiple errors we do not mention the type of error occured with the except statement.\n",
    "#1-try-Tests the main logic\n",
    "#2-except-Executes when try gives an error  \n",
    "#3-else-If exception do not occur then only else is executed.\n",
    "#4-finally-It always execute\n",
    "print(\"1\")\n",
    "print(\"2\")\n",
    "print(\"3\")\n",
    "print(\"4\")\n",
    "try:\n",
    "    print(100/1)\n",
    "    open(\"file11.txt\")\n",
    "except ZeroDivisionError as e:\n",
    "    print(\"error:-\",e)\n",
    "except FileNotFoundError:\n",
    "    print(\"File not found\")    \n",
    "\n",
    "print(\"5\")\n",
    "print(\"6\")"
   ]
  },
  {
   "cell_type": "code",
   "execution_count": 4,
   "id": "0b8a915a-a750-4768-a737-bd2a7a13ac7d",
   "metadata": {},
   "outputs": [
    {
     "name": "stdout",
     "output_type": "stream",
     "text": [
      "1\n",
      "2\n",
      "3\n",
      "4\n",
      "Something went wrong\n",
      "Finally block\n",
      "5\n",
      "6\n"
     ]
    }
   ],
   "source": [
    " #Try,Except,Else,Finally\n",
    "print(\"1\")\n",
    "print(\"2\")\n",
    "print(\"3\")\n",
    "print(\"4\")\n",
    "try:\n",
    "    print(100/0)\n",
    "    open(\"file11.txt\")\n",
    "except:\n",
    "    print(\"Something went wrong\")\n",
    "\n",
    "else:\n",
    "    print(\"else block\")\n",
    "\n",
    "finally:\n",
    "    print(\"Finally block\")\n",
    "\n",
    "print(\"5\")\n",
    "print(\"6\")\n"
   ]
  },
  {
   "cell_type": "code",
   "execution_count": 18,
   "id": "96eba432-062b-4423-986a-36786bb01806",
   "metadata": {},
   "outputs": [
    {
     "name": "stdin",
     "output_type": "stream",
     "text": [
      "Enter your age: 13\n"
     ]
    },
    {
     "name": "stdout",
     "output_type": "stream",
     "text": [
      "Something went wrong as :  Your age is less\n"
     ]
    }
   ],
   "source": [
    "#Raise Error \n",
    "#An exceptio can be raised forcefully in pyhton by using the raise clause in python.It is useful in the scenario where we \n",
    "#need to raise an exception to stop the execution of the program.\n",
    "#Points \n",
    "#An Exception can be provided with a value that canbe given in a parenthesis.\n",
    "#To access the value \"as\" keyword is used as a reference variable which stores the value of the exception.\n",
    "# We can pass the value to an exception to specify the type\n",
    "# to raise an exception \"raise\" keyword is used.\n",
    "try:\n",
    "    age=int(input(\"Enter your age:\"))\n",
    "    if(age < 18):\n",
    "        raise ValueError(\"Your age is less\")\n",
    "    else:\n",
    "        print(\"The age is valid\")\n",
    "\n",
    "except ValueError as v:\n",
    "    print(\"Something went wrong as : \",v)"
   ]
  }
 ],
 "metadata": {
  "kernelspec": {
   "display_name": "Python 3 (ipykernel)",
   "language": "python",
   "name": "python3"
  },
  "language_info": {
   "codemirror_mode": {
    "name": "ipython",
    "version": 3
   },
   "file_extension": ".py",
   "mimetype": "text/x-python",
   "name": "python",
   "nbconvert_exporter": "python",
   "pygments_lexer": "ipython3",
   "version": "3.12.4"
  }
 },
 "nbformat": 4,
 "nbformat_minor": 5
}
