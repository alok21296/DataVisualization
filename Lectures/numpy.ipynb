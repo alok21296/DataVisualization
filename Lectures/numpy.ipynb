{
 "cells": [
  {
   "cell_type": "code",
   "execution_count": 4,
   "id": "7fad3b89-09c9-463d-8c4e-8fa3c95ce2cb",
   "metadata": {},
   "outputs": [],
   "source": [
    "#NUMPY\n",
    "#Numpy stands for \"Numerical Pyhton\".\n",
    "#It is a famous python libarary for numerical and scientific computing.It provides support for working with large \n",
    "#multi-dimensional arrays and matrices of data along with a collection of mathematical function to operate on these arrays.\n",
    "#Numpy is a fundamental library for data manipulation and analysis in python and is used in various fields such as data science and \n",
    "#machine learning etc."
   ]
  },
  {
   "cell_type": "code",
   "execution_count": 24,
   "id": "3828b85f-d192-44eb-b1f3-ef98ca261d8a",
   "metadata": {},
   "outputs": [
    {
     "name": "stdout",
     "output_type": "stream",
     "text": [
      "The rows and columns of a givebn array is:\n",
      "()\n",
      "(5,)\n",
      "(2, 3)\n",
      "(2, 2, 3)\n",
      "The number of dimensions a given array is:\n",
      "0\n",
      "1\n",
      "2\n",
      "3\n",
      "The values in the arrays are:\n",
      "42\n",
      "[1 2 3 4 5]\n",
      "[[1 2 3]\n",
      " [4 5 6]]\n",
      "[[[1 2 3]\n",
      "  [4 5 6]]\n",
      "\n",
      " [[1 2 3]\n",
      "  [4 5 6]]]\n"
     ]
    }
   ],
   "source": [
    "import numpy as np\n",
    "a=np.array(42)\n",
    "b=np.array([1,2,3,4,5])\n",
    "c=np.array([[1,2,3],[4,5,6]])\n",
    "d=np.array([[[1,2,3],[4,5,6]],[[1,2,3],[4,5,6]]])\n",
    "\n",
    "print(\"The rows and columns of a givebn array is:\")\n",
    "print(a.shape)\n",
    "print(b.shape)\n",
    "print(c.shape)\n",
    "print(d.shape)\n",
    "\n",
    "print(\"The number of dimensions a given array is:\")\n",
    "print(a.ndim)\n",
    "print(b.ndim)\n",
    "print(c.ndim)\n",
    "print(d.ndim)\n",
    "\n",
    "print(\"The values in the arrays are:\")\n",
    "print(a)\n",
    "print(b)\n",
    "print(c)\n",
    "print(d)"
   ]
  },
  {
   "cell_type": "code",
   "execution_count": 36,
   "id": "9e1d6422-68b6-4fa8-98d2-c943dbd16876",
   "metadata": {},
   "outputs": [
    {
     "name": "stdout",
     "output_type": "stream",
     "text": [
      "[ True False  True]\n"
     ]
    }
   ],
   "source": [
    "import numpy as np \n",
    "arr=np.array([True,False,True],dtype=bool)\n",
    "print(arr)"
   ]
  },
  {
   "cell_type": "code",
   "execution_count": 34,
   "id": "cad37e15-bf38-46c0-92d2-ce5053495e58",
   "metadata": {},
   "outputs": [
    {
     "name": "stdout",
     "output_type": "stream",
     "text": [
      "['apple' 2 3 5]\n"
     ]
    }
   ],
   "source": [
    "import numpy as np \n",
    "arr=np.array(['apple',2,3,5],dtype=object)\n",
    "print(arr)"
   ]
  },
  {
   "cell_type": "code",
   "execution_count": 46,
   "id": "07fdb5e9-3248-4608-8725-f7e0ed3f93b5",
   "metadata": {},
   "outputs": [
    {
     "name": "stdout",
     "output_type": "stream",
     "text": [
      "[b'hello' b'world']\n"
     ]
    }
   ],
   "source": [
    "import numpy as np\n",
    "arr=np.array(['hello','world'],dtype=np.string_)\n",
    "print(arr)"
   ]
  },
  {
   "cell_type": "code",
   "execution_count": null,
   "id": "13e8caa4-7724-41f3-b2d0-39ab31fbda24",
   "metadata": {},
   "outputs": [],
   "source": []
  }
 ],
 "metadata": {
  "kernelspec": {
   "display_name": "Python 3 (ipykernel)",
   "language": "python",
   "name": "python3"
  },
  "language_info": {
   "codemirror_mode": {
    "name": "ipython",
    "version": 3
   },
   "file_extension": ".py",
   "mimetype": "text/x-python",
   "name": "python",
   "nbconvert_exporter": "python",
   "pygments_lexer": "ipython3",
   "version": "3.12.4"
  }
 },
 "nbformat": 4,
 "nbformat_minor": 5
}
