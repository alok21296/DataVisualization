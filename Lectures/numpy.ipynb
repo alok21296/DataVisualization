{
 "cells": [
  {
   "cell_type": "code",
   "execution_count": 4,
   "id": "7fad3b89-09c9-463d-8c4e-8fa3c95ce2cb",
   "metadata": {},
   "outputs": [],
   "source": [
    "#NUMPY\n",
    "#Numpy stands for \"Numerical Pyhton\".\n",
    "#It is a famous python libarary for numerical and scientific computing.It provides support for working with large \n",
    "#multi-dimensional arrays and matrices of data along with a collection of mathematical function to operate on these arrays.\n",
    "#Numpy is a fundamental library for data manipulation and analysis in python and is used in various fields such as data science and \n",
    "#machine learning etc."
   ]
  },
  {
   "cell_type": "code",
   "execution_count": 41,
   "id": "3828b85f-d192-44eb-b1f3-ef98ca261d8a",
   "metadata": {},
   "outputs": [
    {
     "name": "stdout",
     "output_type": "stream",
     "text": [
      "The rows and columns of a givebn array is:\n",
      "()\n",
      "(5,)\n",
      "(2, 3)\n",
      "(2, 2, 3)\n",
      "The number of dimensions a given array is:\n",
      "0\n",
      "1\n",
      "2\n",
      "3\n",
      "The values in the arrays are:\n",
      "42\n",
      "[1 2 3 4 5]\n",
      "[[1 2 3]\n",
      " [4 5 6]]\n",
      "[[[1 2 3]\n",
      "  [4 5 6]]\n",
      "\n",
      " [[1 2 3]\n",
      "  [4 5 6]]]\n"
     ]
    }
   ],
   "source": [
    "#Shape and Dimension of a given array\n",
    "import numpy as np\n",
    "a=np.array(42)\n",
    "b=np.array([1,2,3,4,5])\n",
    "c=np.array([[1,2,3],[4,5,6]])\n",
    "d=np.array([[[1,2,3],[4,5,6]],[[1,2,3],[4,5,6]]])\n",
    "\n",
    "print(\"The rows and columns of a givebn array is:\")\n",
    "print(a.shape)\n",
    "print(b.shape)\n",
    "print(c.shape)\n",
    "print(d.shape)\n",
    "\n",
    "print(\"The number of dimensions a given array is:\")\n",
    "print(a.ndim)\n",
    "print(b.ndim)\n",
    "print(c.ndim)\n",
    "print(d.ndim)\n",
    "\n",
    "print(\"The values in the arrays are:\")\n",
    "print(a)\n",
    "print(b)\n",
    "print(c)\n",
    "print(d)"
   ]
  },
  {
   "cell_type": "code",
   "execution_count": 36,
   "id": "9e1d6422-68b6-4fa8-98d2-c943dbd16876",
   "metadata": {},
   "outputs": [
    {
     "name": "stdout",
     "output_type": "stream",
     "text": [
      "[ True False  True]\n"
     ]
    }
   ],
   "source": [
    "import numpy as np \n",
    "arr=np.array([True,False,True],dtype=bool)\n",
    "print(arr)"
   ]
  },
  {
   "cell_type": "code",
   "execution_count": 34,
   "id": "cad37e15-bf38-46c0-92d2-ce5053495e58",
   "metadata": {},
   "outputs": [
    {
     "name": "stdout",
     "output_type": "stream",
     "text": [
      "['apple' 2 3 5]\n"
     ]
    }
   ],
   "source": [
    "import numpy as np \n",
    "arr=np.array(['apple',2,3,5],dtype=object)\n",
    "print(arr)"
   ]
  },
  {
   "cell_type": "code",
   "execution_count": 46,
   "id": "07fdb5e9-3248-4608-8725-f7e0ed3f93b5",
   "metadata": {},
   "outputs": [
    {
     "name": "stdout",
     "output_type": "stream",
     "text": [
      "[b'hello' b'world']\n"
     ]
    }
   ],
   "source": [
    "import numpy as np\n",
    "arr=np.array(['hello','world'],dtype=np.string_)\n",
    "print(arr)"
   ]
  },
  {
   "cell_type": "code",
   "execution_count": null,
   "id": "13e8caa4-7724-41f3-b2d0-39ab31fbda24",
   "metadata": {},
   "outputs": [],
   "source": [
    "#Copy and View in sql"
   ]
  },
  {
   "cell_type": "code",
   "execution_count": 2,
   "id": "0381837e-325b-48e6-8a72-487ff1e8b2e2",
   "metadata": {},
   "outputs": [
    {
     "name": "stdout",
     "output_type": "stream",
     "text": [
      "[12 34 54 65 34 65]\n",
      "[34 54 65]\n"
     ]
    }
   ],
   "source": [
    "import numpy as np\n",
    "# l=[12,34,54,65,34,65]\n",
    "arr=np.array([12,34,54,65,34,65])\n",
    "arr2=arr[1:4]\n",
    "print(arr)\n",
    "print(arr2)"
   ]
  },
  {
   "cell_type": "code",
   "execution_count": 47,
   "id": "3a9b246a-b7d8-4f99-a945-3a80705a0b34",
   "metadata": {},
   "outputs": [
    {
     "name": "stdout",
     "output_type": "stream",
     "text": [
      "[[10. 10. 10.]\n",
      " [10. 10. 10.]\n",
      " [10. 10. 10.]\n",
      " [10. 10. 10.]\n",
      " [10. 10. 10.]]\n",
      "[5 5 5 5 5 5 5 5 5 5]\n"
     ]
    }
   ],
   "source": [
    "import numpy as np\n",
    "# arr=np.zeros((5,3))+9\n",
    "arr=np.ones((5,3))+9\n",
    "fives=np.full(10,5,dtype=int)\n",
    "print(arr)\n",
    "print(fives)"
   ]
  },
  {
   "cell_type": "code",
   "execution_count": 20,
   "id": "aef61831-7ed7-44a5-8038-ba43088bfc16",
   "metadata": {},
   "outputs": [
    {
     "name": "stdout",
     "output_type": "stream",
     "text": [
      "[[1. 0. 0. 0. 0. 0. 0.]\n",
      " [0. 1. 0. 0. 0. 0. 0.]\n",
      " [0. 0. 1. 0. 0. 0. 0.]\n",
      " [0. 0. 0. 1. 0. 0. 0.]\n",
      " [0. 0. 0. 0. 1. 0. 0.]\n",
      " [0. 0. 0. 0. 0. 1. 0.]\n",
      " [0. 0. 0. 0. 0. 0. 1.]]\n"
     ]
    }
   ],
   "source": [
    "import numpy as np\n",
    "arr4 =np.eye(7)#It inserts 1 at diagonal of a given array according to the size.\n",
    "print(arr4)"
   ]
  },
  {
   "cell_type": "code",
   "execution_count": 22,
   "id": "a0515f3e-ab99-4c3f-881b-a72dc4d1fb98",
   "metadata": {},
   "outputs": [
    {
     "name": "stdout",
     "output_type": "stream",
     "text": [
      "[0.76828796 0.3497294  0.80226089 0.59124647]\n"
     ]
    }
   ],
   "source": [
    "import numpy as np \n",
    "rno=np.random.rand(4)#Random generates random number and rand gives the number of random numbers to generate.\n",
    "print(rno)"
   ]
  },
  {
   "cell_type": "code",
   "execution_count": 34,
   "id": "03c0c58b-bdbb-4839-a99d-a0bb4e2f4569",
   "metadata": {},
   "outputs": [
    {
     "name": "stdout",
     "output_type": "stream",
     "text": [
      "[[1 2 3]\n",
      " [4 2 3]\n",
      " [4 5 3]\n",
      " [5 6 7]]\n",
      "[[1 2 3 4 2 3 4 5 3 5 6 7]]\n"
     ]
    }
   ],
   "source": [
    "#Reshape function\n",
    "#The reshape function in NumPy allows you to change the shape (dimensions) of an array without changing\n",
    "#its data.This can be useful when you want to rearrange the way data in an array ,such as converting a 1-D\n",
    "#array in 2-d matrix or vice versa,or changing the size of a multi-dimensional array while maintaining the total number of elements.\n",
    "arr=np.array([1,2,3,4,2,3,4,5,3,5,6,7])\n",
    "arr=arr.reshape(4,3)\n",
    "print(arr)\n",
    "arr=arr.reshape(-1,12)\n",
    "print(arr)"
   ]
  },
  {
   "cell_type": "code",
   "execution_count": 40,
   "id": "e9006e38-819b-4e08-a77d-9d300f923739",
   "metadata": {},
   "outputs": [
    {
     "name": "stdout",
     "output_type": "stream",
     "text": [
      "[10 16 65 29 90 94 30  9 74  1 41 37 17 12 55 89 63 34 73 79 50 52 55 78\n",
      " 70 14 26 14 93 87 31 31 90 13 66 32 58 37 28 19 94 78 23 24 95 12 29 75\n",
      " 89 10]\n"
     ]
    }
   ],
   "source": [
    "import numpy as py\n",
    "np.random.seed(10)\n",
    "arr=np.random.randint(1,100,50)\n",
    "print(arr)"
   ]
  },
  {
   "cell_type": "code",
   "execution_count": 50,
   "id": "203ba077-197e-48b8-91a0-7654b29567f7",
   "metadata": {},
   "outputs": [
    {
     "name": "stdout",
     "output_type": "stream",
     "text": [
      "[5 6 7 8 9]\n",
      "[ 1 20  3  4  5  6  7  8  9  0 23 34  4  5 56 67 86 55]\n",
      "<class 'numpy.ndarray'>\n",
      "<class 'numpy.ndarray'>\n",
      "[0 0 0 0 0]\n",
      "[ 1 20  3  4  0  0  0  0  0  0 23 34  4  5 56 67 86 55]\n"
     ]
    }
   ],
   "source": [
    "#Slicing\n",
    "arr=np.array([1,20,3,4,5,6,7,8,9,0,23,34,4,5,56,67,86,55])\n",
    "slicing=arr[4:9]\n",
    "print(slicing)\n",
    "print(arr)\n",
    "print(type(slicing))\n",
    "print(type(arr))\n",
    "slicing[:]=0\n",
    "print(slicing)\n",
    "print(arr)"
   ]
  },
  {
   "cell_type": "code",
   "execution_count": 5,
   "id": "c9122d19-5256-4ab8-92b1-6acfcbd30315",
   "metadata": {},
   "outputs": [
    {
     "name": "stdout",
     "output_type": "stream",
     "text": [
      "[ 1  2  3  4  5  6  7  8  9 10 11 12 13 14]\n",
      "[ 2  4  6  8 10 12 14]\n",
      "[ 1  3  5  7  9 11 13]\n",
      "[ 9 10 11 12 13 14]\n",
      "[ 1  0  3  0  5  0  7  0  9  0 11  0 13  0]\n",
      "-----------------------------------------------------------------------------------------------------\n",
      "[3 4 5 6 7 8 9]\n",
      "[ 2  4  6  8 10 12 14]\n",
      "[ 1  4  9 16 25 36 49]\n"
     ]
    }
   ],
   "source": [
    "import numpy as np \n",
    "ar=np.arange(1,15)\n",
    "print(ar)\n",
    "print(ar[ar%2==0])\n",
    "print(ar[ar%2!=0])\n",
    "print(ar[ar>8])\n",
    "ar[ar%2==0]=0\n",
    "print(ar)\n",
    "print(\"-----------------------------------------------------------------------------------------------------\")\n",
    "ar=np.arange(1,8)\n",
    "print(ar+2)\n",
    "print(ar*2)\n",
    "print(ar**2)"
   ]
  },
  {
   "cell_type": "code",
   "execution_count": 7,
   "id": "c00c9a3c-fafe-4045-bfe9-3f546bcf0b44",
   "metadata": {},
   "outputs": [
    {
     "name": "stdout",
     "output_type": "stream",
     "text": [
      "10\n",
      "99\n",
      "0\n",
      "9\n",
      "[3.16227766 4.47213595 5.47722558 6.32455532 7.07106781 7.74596669\n",
      " 8.36660027 8.94427191 9.48683298 9.94987437]\n",
      "[-0.54402111  0.91294525 -0.98803162  0.74511316 -0.26237485 -0.30481062\n",
      "  0.77389068 -0.99388865  0.89399666 -0.99920683]\n",
      "[-0.83907153  0.40808206  0.15425145 -0.66693806  0.96496603 -0.95241298\n",
      "  0.6333192  -0.11038724 -0.44807362  0.03982088]\n"
     ]
    }
   ],
   "source": [
    "#functions in an array in numpy\n",
    "import numpy as np\n",
    "arr=np.array([10,20,30,40,50,60,70,80,90,99])\n",
    "print(np.min(arr))\n",
    "print(np.max(arr))\n",
    "print(np.argmin(arr))\n",
    "print(np.argmax(arr))\n",
    "print(np.sqrt(arr))\n",
    "print(np.sin(arr))\n",
    "print(np.cos(arr))"
   ]
  },
  {
   "cell_type": "code",
   "execution_count": 13,
   "id": "f81fbdd4-0cf0-4d23-ac91-93b5358bffa9",
   "metadata": {},
   "outputs": [
    {
     "name": "stdout",
     "output_type": "stream",
     "text": [
      "[[16 11 13]\n",
      " [17 13 16]\n",
      " [ 3 16 11]]\n",
      "116\n",
      "[ 16  27  40  57  70  86  89 105 116]\n",
      "3\n",
      "17\n",
      "---------------------------------------------------------\n",
      "[40 46 30]\n",
      "[11 13  3]\n",
      "[16 17 16]\n",
      "[[16 27 40]\n",
      " [17 30 46]\n",
      " [ 3 19 30]]\n"
     ]
    }
   ],
   "source": [
    "#Row and column-wise operation functions \n",
    "import numpy as np\n",
    "\n",
    "np.random.seed(122)\n",
    "mat=np.random.randint(1,21,9).reshape(3,3)\n",
    "print(mat)\n",
    "print(np.sum(mat))\n",
    "print(np.cumsum(mat))\n",
    "print(np.min(mat))\n",
    "print(np.max(mat))\n",
    "print(\"---------------------------------------------------------\")\n",
    "print(np.sum(mat,axis=1))\n",
    "print(np.min(mat,axis=1))\n",
    "print(np.max(mat,axis=1))\n",
    "print(np.cumsum(mat,axis=1))\n"
   ]
  },
  {
   "cell_type": "code",
   "execution_count": null,
   "id": "54216aa1-f47c-45ac-9d1e-836c36da4d98",
   "metadata": {},
   "outputs": [],
   "source": [
    "#User defined cumcum\n",
    "import numpy as np\n",
    "\n",
    "def fb(arr):\n",
    "    row = arr.shape[0]\n",
    "    col = arr.shape[1]\n",
    "    arr2 = np.zeros((row, col))  # Initialize arr2 with zeros\n",
    "    current_sum = 0\n",
    "    \n",
    "    for i in range(row):\n",
    "        for j in range(col):\n",
    "            current_sum += arr[i, j]\n",
    "            arr2[i, j] = current_sum\n",
    "\n",
    "    return arr2\n",
    "\n",
    "# Reshape the array to 2D\n",
    "arr = np.arange(1, 15).reshape((3, 5))\n",
    "print(fb(arr))\n"
   ]
  },
  {
   "cell_type": "code",
   "execution_count": 27,
   "id": "ec56ccb3-de72-4aaf-ba2d-b4b4066bbc3b",
   "metadata": {},
   "outputs": [
    {
     "name": "stdout",
     "output_type": "stream",
     "text": [
      "[16 11 13 17 13 16  3 16 11 10]\n",
      "[13 16 16 11 16 10 11 13 17  3]\n",
      "(array([ 3, 10, 11, 13, 16, 17]), array([9, 5, 3, 0, 1, 8]), array([1, 1, 2, 2, 3, 1]))\n",
      "6\n"
     ]
    }
   ],
   "source": [
    "#Shuffle\n",
    "import numpy as np\n",
    "np.random.seed(122)\n",
    "mat=np.random.randint(1,21,10)\n",
    "print(mat)\n",
    "np.random.shuffle(mat)\n",
    "print(mat) \n",
    "print(np.unique(mat,return_index=True,return_counts=True))\n",
    "print(np.unique(mat).size)"
   ]
  },
  {
   "cell_type": "code",
   "execution_count": 45,
   "id": "a3ebafd1-2909-478d-8da3-1a5de93ac594",
   "metadata": {},
   "outputs": [
    {
     "name": "stdout",
     "output_type": "stream",
     "text": [
      "Array 1:\n",
      "[10 20 30 40]\n",
      "Array 2:\n",
      "[50 60 70 80]\n",
      "Vertically arranged array 1 and array 2\n",
      "[[10 20 30 40]\n",
      " [50 60 70 80]]\n",
      "Horizontally arranged array 1 and array 2\n",
      "[10 20 30 40 50 60 70 80]\n",
      "---------------------------------------------------------------------\n",
      "Array 1:\n",
      "[[16 11 13]\n",
      " [17 13 16]\n",
      " [ 3 16 11]]\n",
      "Array 2:\n",
      "[[10  7 15]\n",
      " [ 4  5 20]\n",
      " [20 14  1]]\n",
      "Vertically arranged array 1 and array 2\n",
      "[[16 11 13]\n",
      " [17 13 16]\n",
      " [ 3 16 11]\n",
      " [10  7 15]\n",
      " [ 4  5 20]\n",
      " [20 14  1]]\n",
      "Horizontally arranged array 1 and array 2\n",
      "[[16 11 13 10  7 15]\n",
      " [17 13 16  4  5 20]\n",
      " [ 3 16 11 20 14  1]]\n"
     ]
    }
   ],
   "source": [
    "#Stacking arrays Horizontally and Vertically\n",
    "import numpy as np\n",
    "arr1=np.array([10,20,30,40])\n",
    "arr2=np.array([50,60,70,80])\n",
    "print(\"Array 1:\")\n",
    "print(arr1)\n",
    "print(\"Array 2:\")\n",
    "print(arr2)\n",
    "print(\"Vertically arranged array 1 and array 2\")\n",
    "print(np.vstack((arr1,arr2)))\n",
    "print(\"Horizontally arranged array 1 and array 2\")\n",
    "print(np.hstack((arr1,arr2)))\n",
    "print(\"---------------------------------------------------------------------\")\n",
    "#On 2-D array\n",
    "import numpy as np\n",
    "np.random.seed(122)\n",
    "arr1=np.random.randint(1,21,9).reshape(3,3)\n",
    "arr2=np.random.randint(1,21,9).reshape(3,3)\n",
    "\n",
    "print(\"Array 1:\")\n",
    "print(arr1)\n",
    "print(\"Array 2:\")\n",
    "print(arr2)\n",
    "print(\"Vertically arranged array 1 and array 2\")\n",
    "print(np.vstack((arr1,arr2)))\n",
    "print(\"Horizontally arranged array 1 and array 2\")\n",
    "print(np.hstack((arr1,arr2)))"
   ]
  },
  {
   "cell_type": "code",
   "execution_count": null,
   "id": "de533dd2-3c70-4bac-bf65-d10d1941b724",
   "metadata": {},
   "outputs": [],
   "source": []
  }
 ],
 "metadata": {
  "kernelspec": {
   "display_name": "Python 3 (ipykernel)",
   "language": "python",
   "name": "python3"
  },
  "language_info": {
   "codemirror_mode": {
    "name": "ipython",
    "version": 3
   },
   "file_extension": ".py",
   "mimetype": "text/x-python",
   "name": "python",
   "nbconvert_exporter": "python",
   "pygments_lexer": "ipython3",
   "version": "3.12.4"
  }
 },
 "nbformat": 4,
 "nbformat_minor": 5
}
