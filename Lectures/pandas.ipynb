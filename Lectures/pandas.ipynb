{
 "cells": [
  {
   "cell_type": "code",
   "execution_count": 11,
   "id": "8a5c7f89-7f07-4468-b56f-5bd4aa5ab012",
   "metadata": {},
   "outputs": [
    {
     "name": "stdout",
     "output_type": "stream",
     "text": [
      "[10, 20, 30, 40, 50]\n",
      "0    10\n",
      "1    20\n",
      "2    30\n",
      "3    40\n",
      "4    50\n",
      "dtype: int64\n",
      "<class 'pandas.core.series.Series'>\n"
     ]
    }
   ],
   "source": [
    "import pandas as pd\n",
    "data=[10,20,30,40,50]\n",
    "print(data)\n",
    "series=pd.Series(data)\n",
    "print(series)\n",
    "print(type(series))\n",
    "#indexing works here just like python and numpy\n"
   ]
  },
  {
   "cell_type": "code",
   "execution_count": 23,
   "id": "224c9c5b-ce2a-46fb-92ea-edc40e7a530d",
   "metadata": {},
   "outputs": [
    {
     "name": "stdout",
     "output_type": "stream",
     "text": [
      "January      1000\n",
      "February     2000\n",
      "March        3000\n",
      "April        4000\n",
      "May          5000\n",
      "June         6000\n",
      "July         4400\n",
      "August       3300\n",
      "September    2000\n",
      "October      1200\n",
      "November     4300\n",
      "December     5400\n",
      "dtype: int64\n"
     ]
    }
   ],
   "source": [
    "import pandas as pd\n",
    "months=['January','February','March','April','May','June','July','August','September','October','November','December']\n",
    "sales_data=[1000,2000,3000,4000,5000,6000,4400,3300,2000,1200,4300,5400]\n",
    "#Create a panda series with months as the index\n",
    "sales_series=pd.Series(sales_data,index=months)\n",
    "print(sales_series)"
   ]
  },
  {
   "cell_type": "code",
   "execution_count": 37,
   "id": "afbdc750-b673-4ebb-b2a9-5a3701faaa45",
   "metadata": {},
   "outputs": [
    {
     "name": "stdout",
     "output_type": "stream",
     "text": [
      "Before Adding:\n",
      "      Name  age\n",
      "0    Alice   22\n",
      "1      Bob   23\n",
      "2  Charlie   32\n",
      "3    david   22\n",
      "After Adding:\n",
      "      Name  age city\n",
      "0    Alice   22    a\n",
      "1      Bob   23    b\n",
      "2  Charlie   32    c\n",
      "3    david   22    d\n",
      "  \n",
      "Data frames after adding new frames\n",
      " \n",
      "      Name  age city Gender Grade\n",
      "0    Alice   22    a      M     A\n",
      "1      Bob   23    b      F     B\n",
      "2  Charlie   32    c      M     A\n",
      "3    david   22    d      M     B\n"
     ]
    }
   ],
   "source": [
    "import pandas as pd \n",
    "data={\n",
    "    'Name':['Alice','Bob','Charlie','david'],\n",
    "    'age':[22,23,32,22],\n",
    "    \n",
    "    \n",
    "}\n",
    "df=pd.DataFrame(data)\n",
    "print(\"Before Adding:\")\n",
    "print(df)\n",
    "print(\"After Adding:\")\n",
    "df['city']=['a','b','c','d']\n",
    "print(df)\n",
    "new_columns={\n",
    "    'Gender':['M','F','M','M'],\n",
    "    'Grade':['A','B','A','B']\n",
    "}\n",
    "df['Gender']=new_columns['Gender']\n",
    "df['Grade']=new_columns['Grade']\n",
    "print(\"  \")\n",
    "print(\"Data frames after adding new frames\")\n",
    "print(\" \")\n",
    "print(df)"
   ]
  },
  {
   "cell_type": "code",
   "execution_count": null,
   "id": "dc695756-255c-411c-b834-bf15091f18de",
   "metadata": {},
   "outputs": [],
   "source": [
    "#Insert method is used to insert column at a given specific position as ---df.insert(index,column_name,column_values)"
   ]
  },
  {
   "cell_type": "code",
   "execution_count": 9,
   "id": "0e75c1c8-ec55-417c-b7b2-23c49fb5c780",
   "metadata": {},
   "outputs": [
    {
     "name": "stdout",
     "output_type": "stream",
     "text": [
      "Initial DataFrame:\n",
      "      Name  Age         City\n",
      "0    Alice   23     New York\n",
      "1      Bob   36  Los Angeles\n",
      "2  Charlie   37      Chicago\n",
      "3    David   28      Houston\n",
      "\n",
      "DataFrame after adding new rows:\n",
      "      Name  Age           City\n",
      "0    Alice   23       New York\n",
      "1      Bob   36    Los Angeles\n",
      "2  Charlie   37        Chicago\n",
      "3    David   28        Houston\n",
      "4      Eve   24  San Francisco\n",
      "5    Frank   34          Miami\n",
      "6    Grace   33        Seattle\n"
     ]
    }
   ],
   "source": [
    "import pandas as pd\n",
    "#Initial DataFrame\n",
    "data = {'Name': ['Alice', 'Bob', 'Charlie', 'David'],\n",
    "'Age': [23, 36, 37, 28],\n",
    "'City': ['New York', 'Los Angeles', 'Chicago', 'Houston']}\n",
    "df = pd. DataFrame(data)\n",
    "print(\"Initial DataFrame:\")\n",
    "print(df)\n",
    "#Create data for the new rows\n",
    "new_rows = pd. DataFrame([\n",
    "{'Name': 'Eve', 'Age': 24, 'City': 'San Francisco'}, \n",
    "{'Name': 'Frank', 'Age': 34, 'City': 'Miami'},\n",
    "{'Name': 'Grace', 'Age': 33, 'City': 'Seattle'}\n",
    "])\n",
    "#Concatiantion requires a new variable to store its data\n",
    "new_df = pd.concat([df, new_rows], ignore_index=True)\n",
    "print(\"\\nDataFrame after adding new rows:\")\n",
    "print(new_df)\n",
    "#loc is used to insert the given data at a specified index "
   ]
  },
  {
   "cell_type": "code",
   "execution_count": 15,
   "id": "0be798c2-b30e-4726-bd40-ecb751e78618",
   "metadata": {},
   "outputs": [
    {
     "name": "stdout",
     "output_type": "stream",
     "text": [
      "Initial DataFrame:\n",
      "      Name  Age         City\n",
      "0    Alice   25     New York\n",
      "1      Bob   30  Los Angeles\n",
      "2  Charlie   35      Chicago\n",
      "3    David   28      Houston\n",
      "      Name  Age           City\n",
      "0    Alice   25       New York\n",
      "1      Bob   30    Los Angeles\n",
      "2  Charlie   35        Chicago\n",
      "3      Eve   24  San Francisco\n",
      "  First Name  Age           City\n",
      "0      Alice   25       New York\n",
      "1        Bob   30    Los Angeles\n",
      "2    Charlie   35        Chicago\n",
      "3        Eve   24  San Francisco\n",
      "  Full Name  Student Age   Student city\n",
      "0     Alice           25       New York\n",
      "1       Bob           30    Los Angeles\n",
      "2   Charlie           35        Chicago\n",
      "3       Eve           24  San Francisco\n",
      "  full name  student age   student city\n",
      "0     Alice           25       New York\n",
      "1       Bob           30    Los Angeles\n",
      "2   Charlie           35        Chicago\n",
      "3       Eve           24  San Francisco\n",
      "full name               Bob\n",
      "student age              30\n",
      "student city    Los Angeles\n",
      "Name: 1, dtype: object\n",
      "  full name  student age   student city\n",
      "0     Alice         25.0       New York\n",
      "1    sanjay          NaN            NaN\n",
      "2   Charlie         35.0        Chicago\n",
      "3       Eve         24.0  San Francisco\n"
     ]
    },
    {
     "data": {
      "text/html": [
       "<div>\n",
       "<style scoped>\n",
       "    .dataframe tbody tr th:only-of-type {\n",
       "        vertical-align: middle;\n",
       "    }\n",
       "\n",
       "    .dataframe tbody tr th {\n",
       "        vertical-align: top;\n",
       "    }\n",
       "\n",
       "    .dataframe thead th {\n",
       "        text-align: right;\n",
       "    }\n",
       "</style>\n",
       "<table border=\"1\" class=\"dataframe\">\n",
       "  <thead>\n",
       "    <tr style=\"text-align: right;\">\n",
       "      <th></th>\n",
       "      <th>full name</th>\n",
       "      <th>student city</th>\n",
       "    </tr>\n",
       "  </thead>\n",
       "  <tbody>\n",
       "    <tr>\n",
       "      <th>1</th>\n",
       "      <td>sanjay</td>\n",
       "      <td>NaN</td>\n",
       "    </tr>\n",
       "    <tr>\n",
       "      <th>2</th>\n",
       "      <td>Charlie</td>\n",
       "      <td>Chicago</td>\n",
       "    </tr>\n",
       "    <tr>\n",
       "      <th>3</th>\n",
       "      <td>Eve</td>\n",
       "      <td>San Francisco</td>\n",
       "    </tr>\n",
       "  </tbody>\n",
       "</table>\n",
       "</div>"
      ],
      "text/plain": [
       "  full name   student city\n",
       "1    sanjay            NaN\n",
       "2   Charlie        Chicago\n",
       "3       Eve  San Francisco"
      ]
     },
     "execution_count": 15,
     "metadata": {},
     "output_type": "execute_result"
    }
   ],
   "source": [
    "import pandas as pd\n",
    "# Create an initial DataFrame\n",
    "data = {'Name': ['Alice', 'Bob', 'Charlie', 'David'],\n",
    "'Age': [25, 30, 35, 28],\n",
    "'City': ['New York', 'Los Angeles', 'Chicago', 'Houston']}\n",
    "df = pd. DataFrame(data)\n",
    "# Display the initial DataFrame\n",
    "print(\"Initial DataFrame:\")\n",
    "print(df)\n",
    "# Create data for the new row\n",
    "new_row = {'Name': 'Eve', 'Age': 24, 'City': 'San Francisco'}\n",
    "df. loc [3]=new_row\n",
    "print(df)\n",
    "df=df.rename(columns = {'Name': 'First Name'})\n",
    "print(df)\n",
    "df=df. rename(columns = {'First Name': 'Full Name', 'Age': 'Student Age', 'City': 'Student city'})\n",
    "print(df)\n",
    "df.columns=df.columns.str.lower()\n",
    "print(df)\n",
    "\n",
    "print(df.loc[1])\n",
    "df.loc[1]={\"full name\":\"sanjay\"}\n",
    "print(df)\n",
    "\n",
    "df.loc[1:3,['full name',\"student city\"]]"
   ]
  },
  {
   "cell_type": "code",
   "execution_count": 23,
   "id": "06217066-1e84-466c-ad7d-0670b32761c5",
   "metadata": {},
   "outputs": [
    {
     "name": "stdout",
     "output_type": "stream",
     "text": [
      "Original Dataset\n",
      "        Fruit   Color  Price\n",
      "0       Apple     Red     45\n",
      "1     Avacado   Green     90\n",
      "2      Banana  Yellow     65\n",
      "3  Strawberry    Pink     37\n",
      "4       Grape   Green     49\n",
      "After Updating Values\n",
      "        Fruit   Color  Price        Remarks\n",
      "0       Apple     Red     45  Not Expensive\n",
      "1     Avacado   Green     90      Expensive\n",
      "2      Banana  Yellow     65      Expensive\n",
      "3  Strawberry    Pink     37  Not Expensive\n",
      "4       Grape   Green     49  Not Expensive\n"
     ]
    }
   ],
   "source": [
    "import pandas as pd\n",
    "fruit_data = {\"Fruit\": ['Apple', 'Avacado', 'Banana', 'Strawberry', 'Grape'],\n",
    "\"Color\": ['Red', 'Green', 'Yellow', 'Pink', 'Green'],\n",
    "\"Price\": [45, 90, 65, 37, 49]}\n",
    "data = pd.DataFrame(fruit_data)\n",
    "print(\"Original Dataset\")\n",
    "print(data)\n",
    "data.loc[data[ 'Price'] >60, 'Remarks'] = 'Expensive'\n",
    "data.loc[data[ 'Price'] <60, 'Remarks'] = 'Not Expensive'\n",
    "print(\"After Updating Values\")\n",
    "print(data)"
   ]
  },
  {
   "cell_type": "code",
   "execution_count": 33,
   "id": "dd2f3aeb-8be8-4d09-8282-8765c5afe4d7",
   "metadata": {},
   "outputs": [
    {
     "name": "stdout",
     "output_type": "stream",
     "text": [
      "Initial DataFrame:\n",
      "   OrderID Product  Quantity    Status\n",
      "0      101  Widget        10   Shipped\n",
      "1      102  Gadget         5  Canceled\n",
      "2      103  Widget         0  Canceled\n",
      "3      104  Doodad         7   Shipped\n",
      "4      105  Widget        15   Shipped\n"
     ]
    },
    {
     "data": {
      "text/html": [
       "<div>\n",
       "<style scoped>\n",
       "    .dataframe tbody tr th:only-of-type {\n",
       "        vertical-align: middle;\n",
       "    }\n",
       "\n",
       "    .dataframe tbody tr th {\n",
       "        vertical-align: top;\n",
       "    }\n",
       "\n",
       "    .dataframe thead th {\n",
       "        text-align: right;\n",
       "    }\n",
       "</style>\n",
       "<table border=\"1\" class=\"dataframe\">\n",
       "  <thead>\n",
       "    <tr style=\"text-align: right;\">\n",
       "      <th></th>\n",
       "      <th>OrderID</th>\n",
       "      <th>Product</th>\n",
       "      <th>Quantity</th>\n",
       "      <th>Status</th>\n",
       "    </tr>\n",
       "  </thead>\n",
       "  <tbody>\n",
       "    <tr>\n",
       "      <th>0</th>\n",
       "      <td>101</td>\n",
       "      <td>Widget</td>\n",
       "      <td>10</td>\n",
       "      <td>Shipped</td>\n",
       "    </tr>\n",
       "    <tr>\n",
       "      <th>3</th>\n",
       "      <td>104</td>\n",
       "      <td>Doodad</td>\n",
       "      <td>7</td>\n",
       "      <td>Shipped</td>\n",
       "    </tr>\n",
       "    <tr>\n",
       "      <th>4</th>\n",
       "      <td>105</td>\n",
       "      <td>Widget</td>\n",
       "      <td>15</td>\n",
       "      <td>Shipped</td>\n",
       "    </tr>\n",
       "  </tbody>\n",
       "</table>\n",
       "</div>"
      ],
      "text/plain": [
       "   OrderID Product  Quantity   Status\n",
       "0      101  Widget        10  Shipped\n",
       "3      104  Doodad         7  Shipped\n",
       "4      105  Widget        15  Shipped"
      ]
     },
     "execution_count": 33,
     "metadata": {},
     "output_type": "execute_result"
    }
   ],
   "source": [
    "import pandas as pd\n",
    "# Create a sample sales DataFrame\n",
    "data = {\n",
    "'OrderID': [101, 102, 103, 104, 105],\n",
    "'Product': ['Widget', 'Gadget', 'Widget', 'Doodad', 'Widget'],\n",
    "'Quantity': [10, 5, 0, 7, 15],\n",
    "'Status': ['Shipped', 'Canceled', 'Canceled', 'Shipped', 'Shipped']}\n",
    "df = pd. DataFrame(data)\n",
    "print(\"Initial DataFrame:\")\n",
    "print(df)\n",
    "\n",
    "df = df[df['Status'] != 'Canceled' ]\n",
    "df"
   ]
  },
  {
   "cell_type": "code",
   "execution_count": 55,
   "id": "3b977176-bb2d-41ea-bdd5-600510f7030c",
   "metadata": {},
   "outputs": [
    {
     "name": "stdout",
     "output_type": "stream",
     "text": [
      "     Name Qualification\n",
      "0     Jai           Msc\n",
      "1  princi            MA\n",
      "2  Gaurav           MCA\n",
      "3    Anuj           Phd\n",
      "   a   b\n",
      "0  1   7\n",
      "1  2   8\n",
      "2  3   9\n",
      "3  4  18\n",
      "4  5  11\n",
      "5  6  12\n",
      "   a   b  sum\n",
      "0  1   7    8\n",
      "1  2   8   10\n",
      "2  3   9   12\n",
      "3  4  18   22\n",
      "4  5  11   16\n",
      "5  6  12   18\n",
      "   a   b  sum  sub\n",
      "0  1   7    8   -6\n",
      "1  2   8   10   -6\n",
      "2  3   9   12   -6\n",
      "3  4  18   22  -14\n",
      "4  5  11   16   -6\n",
      "5  6  12   18   -6\n",
      "   a   b  sum  sub  mul\n",
      "0  1   7    8   -6    7\n",
      "1  2   8   10   -6   16\n",
      "2  3   9   12   -6   27\n",
      "3  4  18   22  -14   72\n",
      "4  5  11   16   -6   55\n",
      "5  6  12   18   -6   72\n"
     ]
    }
   ],
   "source": [
    "import pandas as pd \n",
    "data ={'Name':['Jai', 'princi', 'Gaurav','Anuj'],\n",
    "'Age': [27, 24, 22, 32],\n",
    "'Address': ['Delhi', 'Kanpur', 'Allahabad', 'Kannauj'],\n",
    "'Qualification': ['Msc', \"MA\", \"MCA\", 'Phd']}\n",
    "df = pd.DataFrame(data)\n",
    "print (df[ ['Name','Qualification' ]])\n",
    "#--------------------------------------------------------------\n",
    "dict={\"a\":[1,2,3,4,5,6], \"b\":[7,8,9,18,11,12]}\n",
    "df = pd.DataFrame(dict)\n",
    "print(df)\n",
    "df[\"sum\"]=df[\"a\"]+df[\"b\"]\n",
    "print(df)\n",
    "df[\"sub\"]=df[\"a\"]-df[\"b\"]\n",
    "print(df)\n",
    "df[\"mul\"]=df[\"a\"]*df[\"b\"]\n",
    "print(df)"
   ]
  },
  {
   "cell_type": "code",
   "execution_count": 59,
   "id": "b3fa1602-ad6a-442b-9bc3-09276bdb1c09",
   "metadata": {},
   "outputs": [],
   "source": [
    "data ={\n",
    "\"name\": [\"Sally\", \"Mary\",\"John\"],\n",
    "\"age\":[50, 40, 30],\n",
    "\"qualified\": [True, False, False]}\n",
    "df = pd.DataFrame(data)\n",
    "df. pop('age')\n",
    "del df[\"name\"]"
   ]
  },
  {
   "cell_type": "code",
   "execution_count": 6,
   "id": "a6036818-7dd7-466c-8789-0f35e0be75cd",
   "metadata": {},
   "outputs": [
    {
     "name": "stdout",
     "output_type": "stream",
     "text": [
      "Initial DataFrame:\n",
      "      Name  Age         City\n",
      "0    Alice   25     New York\n",
      "1      Bob   30  Los Angeles\n",
      "2  Charlie   35      Chicago\n",
      "3    David   28      Houston\n",
      "      Name  Age           City\n",
      "0    Alice   25       New York\n",
      "1      Eve   24  San Francisco\n",
      "2    Frank   32          Miami\n",
      "3    Grace   29        Seattle\n",
      "4      Bob   30    Los Angeles\n",
      "5  Charlie   35        Chicago\n",
      "6    David   28        Houston\n"
     ]
    }
   ],
   "source": [
    "# Create an initial DataFrame\n",
    "data = {'Name': ['Alice', 'Bob', 'Charlie', 'David'],\n",
    "\"Age\": [25, 30, 35, 28],\n",
    "\"City\": ['New York','Los Angeles', 'Chicago', 'Houston' ]}\n",
    "df = pd.DataFrame(data)\n",
    "# Display the initial DataFrame\n",
    "print(\"Initial DataFrame:\")\n",
    "print(df)\n",
    "new_rows = pd.DataFrame([\n",
    "{'Name': 'Eve', 'Age': 24,'City': \"San Francisco\"},\n",
    "{'Name': 'Frank', 'Age': 32, 'City': 'Miami'},\n",
    "{'Name': 'Grace', 'Age': 29, 'City': 'Seattle'}\n",
    "])\n",
    "df = pd.concat([df.iloc[:1],new_rows,df.iloc[1:]]).reset_index(drop=True)\n",
    "print(df)"
   ]
  },
  {
   "cell_type": "code",
   "execution_count": 8,
   "id": "e4c34476-8cbf-4173-874d-8a76dca21eb4",
   "metadata": {},
   "outputs": [
    {
     "name": "stdout",
     "output_type": "stream",
     "text": [
      "Data added to the csv file output.csv\n"
     ]
    }
   ],
   "source": [
    "#Pandas and CSV File \n",
    "import pandas as pd \n",
    "data={\n",
    "    'Name':['Alice','Bob','Charlie'],\n",
    "    'Age':[25,30,35]\n",
    "}\n",
    "df=pd.DataFrame(data)\n",
    "csv_file_path='output.csv'\n",
    "df.to_csv(csv_file_path,index=False)\n",
    "print(f'Data added to the csv file {csv_file_path}')"
   ]
  },
  {
   "cell_type": "code",
   "execution_count": 22,
   "id": "f9145596-fea8-4176-8e14-6899b24824c0",
   "metadata": {},
   "outputs": [
    {
     "name": "stdout",
     "output_type": "stream",
     "text": [
      "Basic value counts:\n",
      "c    4\n",
      "a    3\n",
      "b    2\n",
      "Name: count, dtype: int64\n",
      "\n",
      "Value counts without sorting:\n",
      "a    3\n",
      "b    2\n",
      "c    4\n",
      "Name: count, dtype: int64\n",
      "\n",
      "Value counts sorted in ascending order:\n",
      "b    2\n",
      "a    3\n",
      "c    4\n",
      "Name: count, dtype: int64\n",
      "\n",
      "Value counts including NaN:\n",
      "c      4\n",
      "a      3\n",
      "b      2\n",
      "NaN    1\n",
      "Name: count, dtype: int64\n"
     ]
    }
   ],
   "source": [
    "import pandas as pd\n",
    "import numpy as np\n",
    "# Sample Series\n",
    "s = pd. Series (['a', 'b', 'a', 'c', 'b', 'a', np.nan, 'c', 'c', 'c'])\n",
    "# Basic value counts\n",
    "print (\"Basic value counts:\")\n",
    "print(s. value_counts())\n",
    "# Do not sort by count (order of appearance)\n",
    "print(\"\\nValue counts without sorting:\")\n",
    "print(s. value_counts (sort=False))\n",
    "# Sort results in ascending order\n",
    "print(\"\\nValue counts sorted in ascending order:\")\n",
    "print(s. value_counts(ascending=True))\n",
    "# Include NaN values in the counts\n",
    "print(\"\\nValue counts including NaN:\")\n",
    "print(s. value_counts (dropna=False) )\n"
   ]
  },
  {
   "cell_type": "code",
   "execution_count": null,
   "id": "db659563-0603-405d-8fdf-5f4ebc91d268",
   "metadata": {},
   "outputs": [],
   "source": [
    "import pandas as pd \n",
    "df=pd.read_csv(\"output.csv\")\n",
    "df.drop_duplicates(subset=\"Slot Id\",inplace=True)\n",
    "df"
   ]
  },
  {
   "cell_type": "code",
   "execution_count": 44,
   "id": "743c8e38-22c3-4e31-8aeb-24093c449209",
   "metadata": {},
   "outputs": [
    {
     "name": "stdout",
     "output_type": "stream",
     "text": [
      "     gender  math score  reading score  writing score\n",
      "59   female           0             17             10\n",
      "980  female           8             24             23\n",
      "17   female          18             32             28\n",
      "787  female          19             38             32\n",
      "145  female          22             39             33\n",
      "842  female          23             44             36\n"
     ]
    }
   ],
   "source": [
    "import pandas as pd\n",
    "# Provide the path to your CSV file\n",
    "csv_file_path = 'StudentsPerformance.csv' # Replace with the actual path to your CSV file\n",
    "col=['gender','math score','reading score','writing score']\n",
    "# # Use read_csv to read the data from the CSV file into a DataFrame\n",
    "df = pd.read_csv(csv_file_path,usecols=col)\n",
    "# # Sort Values by State Names\n",
    "print(df.sort_values(by=['math score']).head(6))"
   ]
  },
  {
   "cell_type": "code",
   "execution_count": 68,
   "id": "9a3311f6-f1ff-4be7-a7f0-f49b5d3b3890",
   "metadata": {},
   "outputs": [
    {
     "data": {
      "text/html": [
       "<div>\n",
       "<style scoped>\n",
       "    .dataframe tbody tr th:only-of-type {\n",
       "        vertical-align: middle;\n",
       "    }\n",
       "\n",
       "    .dataframe tbody tr th {\n",
       "        vertical-align: top;\n",
       "    }\n",
       "\n",
       "    .dataframe thead th {\n",
       "        text-align: right;\n",
       "    }\n",
       "</style>\n",
       "<table border=\"1\" class=\"dataframe\">\n",
       "  <thead>\n",
       "    <tr style=\"text-align: right;\">\n",
       "      <th></th>\n",
       "      <th>gender</th>\n",
       "      <th>race/ethnicity</th>\n",
       "      <th>parental level of education</th>\n",
       "      <th>lunch</th>\n",
       "      <th>test preparation course</th>\n",
       "      <th>math score</th>\n",
       "      <th>reading score</th>\n",
       "      <th>writing score</th>\n",
       "    </tr>\n",
       "  </thead>\n",
       "  <tbody>\n",
       "    <tr>\n",
       "      <th>1</th>\n",
       "      <td>female</td>\n",
       "      <td>group C</td>\n",
       "      <td>some college</td>\n",
       "      <td>standard</td>\n",
       "      <td>completed</td>\n",
       "      <td>69</td>\n",
       "      <td>90</td>\n",
       "      <td>88</td>\n",
       "    </tr>\n",
       "    <tr>\n",
       "      <th>6</th>\n",
       "      <td>female</td>\n",
       "      <td>group B</td>\n",
       "      <td>some college</td>\n",
       "      <td>standard</td>\n",
       "      <td>completed</td>\n",
       "      <td>88</td>\n",
       "      <td>95</td>\n",
       "      <td>92</td>\n",
       "    </tr>\n",
       "    <tr>\n",
       "      <th>8</th>\n",
       "      <td>male</td>\n",
       "      <td>group D</td>\n",
       "      <td>high school</td>\n",
       "      <td>free/reduced</td>\n",
       "      <td>completed</td>\n",
       "      <td>64</td>\n",
       "      <td>64</td>\n",
       "      <td>67</td>\n",
       "    </tr>\n",
       "    <tr>\n",
       "      <th>13</th>\n",
       "      <td>male</td>\n",
       "      <td>group A</td>\n",
       "      <td>some college</td>\n",
       "      <td>standard</td>\n",
       "      <td>completed</td>\n",
       "      <td>78</td>\n",
       "      <td>72</td>\n",
       "      <td>70</td>\n",
       "    </tr>\n",
       "  </tbody>\n",
       "</table>\n",
       "</div>"
      ],
      "text/plain": [
       "    gender race/ethnicity parental level of education         lunch  \\\n",
       "1   female        group C                some college      standard   \n",
       "6   female        group B                some college      standard   \n",
       "8     male        group D                 high school  free/reduced   \n",
       "13    male        group A                some college      standard   \n",
       "\n",
       "   test preparation course  math score  reading score  writing score  \n",
       "1                completed          69             90             88  \n",
       "6                completed          88             95             92  \n",
       "8                completed          64             64             67  \n",
       "13               completed          78             72             70  "
      ]
     },
     "execution_count": 68,
     "metadata": {},
     "output_type": "execute_result"
    }
   ],
   "source": [
    "import pandas as pd\n",
    "# Provide the path to your CSV file\n",
    "csv_file_path = 'StudentsPerformance.csv' # Replace with the actual path to your CSV file\n",
    "df=pd.read_csv(csv_file_path)\n",
    "course_completed=df['test preparation course']=='completed'\n",
    "# reading_score=df['reading score']==75\n",
    "df[course_completed].head(4)"
   ]
  },
  {
   "cell_type": "code",
   "execution_count": 82,
   "id": "1721eb77-501f-4cf0-8d5a-96d8e219534b",
   "metadata": {},
   "outputs": [
    {
     "name": "stdout",
     "output_type": "stream",
     "text": [
      "        reading score\n",
      "gender               \n",
      "female             17\n",
      "male               23\n"
     ]
    }
   ],
   "source": [
    "import pandas as pd\n",
    "csv_file_path='StudentsPerformance.csv'\n",
    "df=pd.read_csv(csv_file_path)\n",
    "print(df[['reading score']].groupby(df['gender']).min())"
   ]
  },
  {
   "cell_type": "code",
   "execution_count": 86,
   "id": "c9b9f0a3-3053-45e9-ad4e-2a30a46c2538",
   "metadata": {},
   "outputs": [
    {
     "name": "stdout",
     "output_type": "stream",
     "text": [
      "                                 lunch                            \n",
      "                                 count           min           max\n",
      "gender race/ethnicity math score                                  \n",
      "female group A        34             1  free/reduced  free/reduced\n",
      "                      37             1  free/reduced  free/reduced\n",
      "                      38             1  free/reduced  free/reduced\n",
      "                      41             1  free/reduced  free/reduced\n",
      "                      44             2  free/reduced  free/reduced\n",
      "                      45             1      standard      standard\n",
      "                      47             1  free/reduced  free/reduced\n",
      "                      48             1      standard      standard\n",
      "                      49             1  free/reduced  free/reduced\n",
      "                      50             2  free/reduced      standard\n",
      "                      51             1      standard      standard\n",
      "                      53             1  free/reduced  free/reduced\n"
     ]
    }
   ],
   "source": [
    "import pandas as pd\n",
    "# Provide the path to your CSV file\n",
    "csv_file_path = 'StudentsPerformance.csv' # Replace with the actual path to your CSV file\n",
    "# Use read_csv to read the data from the CSV file into a DataFrame\n",
    "df = pd.read_csv(csv_file_path)\n",
    "#Group By multiple columns\n",
    "state_gender_res =df[['gender','race/ethnicity','lunch','math score']].groupby(['gender','race/ethnicity', 'math score']).agg(['count', 'min', 'max'])\n",
    "# fetch top 12 records meeting the above condition\n",
    "print(state_gender_res.head(12))"
   ]
  },
  {
   "cell_type": "code",
   "execution_count": 96,
   "id": "12ee47f7-f683-4e6a-ba89-e4cabe454d04",
   "metadata": {},
   "outputs": [
    {
     "data": {
      "image/png": "[encoded data removed]",
      "text/plain": [
       "<Figure size 640x480 with 1 Axes>"
      ]
     },
     "metadata": {},
     "output_type": "display_data"
    }
   ],
   "source": [
    "#pandas with matplotlib\n",
    "import pandas as pd \n",
    "import matplotlib.pyplot as plt \n",
    "data={\n",
    "    \"months\":[\"january\",\"february\",\"march\",\"april\",\"may\"],\n",
    "    \"Sales\":[5500,1200,6000,8000,5000]\n",
    "}\n",
    "df=pd.DataFrame(data)\n",
    "df.set_index(\"months\",inplace=True)\n",
    "df.plot(kind=\"bar\")\n",
    "plt.show()"
   ]
  },
  {
   "cell_type": "code",
   "execution_count": 112,
   "id": "ca5b456f-daf2-4efb-b9a6-b858faa5f73a",
   "metadata": {},
   "outputs": [
    {
     "data": {
      "text/plain": [
       "<Axes: >"
      ]
     },
     "execution_count": 112,
     "metadata": {},
     "output_type": "execute_result"
    },
    {
     "data": {
      "image/png": "[encoded data removed]",
      "text/plain": [
       "<Figure size 640x480 with 1 Axes>"
      ]
     },
     "metadata": {},
     "output_type": "display_data"
    }
   ],
   "source": [
    "import pandas as pd \n",
    "csv_file_path=\"StudentsPerformance.csv\"\n",
    "df=pd.read_csv(csv_file_path)\n",
    "df.dropna(inplace=True)\n",
    "df['math score'].value_counts().head(10).plot(kind=\"box\")"
   ]
  },
  {
   "cell_type": "code",
   "execution_count": 2,
   "id": "46cf5834-e1d7-4227-aa45-778f588b037a",
   "metadata": {},
   "outputs": [
    {
     "name": "stdout",
     "output_type": "stream",
     "text": [
      "     A    B    C\n",
      "A  1.0 -1.0  1.0\n",
      "B -1.0  1.0 -1.0\n",
      "C  1.0 -1.0  1.0\n"
     ]
    }
   ],
   "source": [
    "import pandas as pd\n",
    "\n",
    "# Sample DataFrame\n",
    "data = {\n",
    "    'A': [1, 2, 3, 4, 5],\n",
    "    'B': [5, 4, 3, 2, 1],\n",
    "    'C': [2, 3, 4, 5, 6]\n",
    "}\n",
    "\n",
    "df = pd.DataFrame(data)\n",
    "\n",
    "# Compute correlation matrix\n",
    "correlation_matrix = df.corr()\n",
    "\n",
    "print(correlation_matrix)"
   ]
  },
  {
   "cell_type": "code",
   "execution_count": 20,
   "id": "06e40803-25c1-4f4b-b804-5171f5aab89a",
   "metadata": {},
   "outputs": [
    {
     "name": "stdout",
     "output_type": "stream",
     "text": [
      "Preference  A  B\n",
      "Gender          \n",
      "Female      1  1\n",
      "Male        1  2\n"
     ]
    }
   ],
   "source": [
    "import pandas as pd\n",
    "\n",
    "# Sample data\n",
    "data = {\n",
    "    'Gender': ['Male', 'Female', 'Female', 'Male', 'Male'],\n",
    "    'Preference': ['A', 'B', 'A', 'B', 'B']\n",
    "}\n",
    "\n",
    "df = pd.DataFrame(data)\n",
    "\n",
    "# Create a crosstab\n",
    "crosstab = pd.crosstab(df['Gender'], df['Preference'])\n",
    "\n",
    "print(crosstab)\n"
   ]
  },
  {
   "cell_type": "code",
   "execution_count": 19,
   "id": "a01f649e-8cb0-4cd4-84d5-fd6458e365d1",
   "metadata": {},
   "outputs": [
    {
     "data": {
      "text/html": [
       "<div>\n",
       "<style scoped>\n",
       "    .dataframe tbody tr th:only-of-type {\n",
       "        vertical-align: middle;\n",
       "    }\n",
       "\n",
       "    .dataframe tbody tr th {\n",
       "        vertical-align: top;\n",
       "    }\n",
       "\n",
       "    .dataframe thead th {\n",
       "        text-align: right;\n",
       "    }\n",
       "</style>\n",
       "<table border=\"1\" class=\"dataframe\">\n",
       "  <thead>\n",
       "    <tr style=\"text-align: right;\">\n",
       "      <th></th>\n",
       "      <th>gender</th>\n",
       "      <th>math score</th>\n",
       "      <th>reading score</th>\n",
       "      <th>writing score</th>\n",
       "    </tr>\n",
       "  </thead>\n",
       "  <tbody>\n",
       "    <tr>\n",
       "      <th>0</th>\n",
       "      <td>female</td>\n",
       "      <td>72</td>\n",
       "      <td>72</td>\n",
       "      <td>74</td>\n",
       "    </tr>\n",
       "    <tr>\n",
       "      <th>8</th>\n",
       "      <td>male</td>\n",
       "      <td>64</td>\n",
       "      <td>64</td>\n",
       "      <td>67</td>\n",
       "    </tr>\n",
       "    <tr>\n",
       "      <th>10</th>\n",
       "      <td>male</td>\n",
       "      <td>58</td>\n",
       "      <td>54</td>\n",
       "      <td>52</td>\n",
       "    </tr>\n",
       "    <tr>\n",
       "      <th>13</th>\n",
       "      <td>male</td>\n",
       "      <td>78</td>\n",
       "      <td>72</td>\n",
       "      <td>70</td>\n",
       "    </tr>\n",
       "    <tr>\n",
       "      <th>20</th>\n",
       "      <td>male</td>\n",
       "      <td>66</td>\n",
       "      <td>69</td>\n",
       "      <td>63</td>\n",
       "    </tr>\n",
       "    <tr>\n",
       "      <th>...</th>\n",
       "      <td>...</td>\n",
       "      <td>...</td>\n",
       "      <td>...</td>\n",
       "      <td>...</td>\n",
       "    </tr>\n",
       "    <tr>\n",
       "      <th>985</th>\n",
       "      <td>male</td>\n",
       "      <td>57</td>\n",
       "      <td>51</td>\n",
       "      <td>54</td>\n",
       "    </tr>\n",
       "    <tr>\n",
       "      <th>993</th>\n",
       "      <td>female</td>\n",
       "      <td>62</td>\n",
       "      <td>72</td>\n",
       "      <td>74</td>\n",
       "    </tr>\n",
       "    <tr>\n",
       "      <th>994</th>\n",
       "      <td>male</td>\n",
       "      <td>63</td>\n",
       "      <td>63</td>\n",
       "      <td>62</td>\n",
       "    </tr>\n",
       "    <tr>\n",
       "      <th>996</th>\n",
       "      <td>male</td>\n",
       "      <td>62</td>\n",
       "      <td>55</td>\n",
       "      <td>55</td>\n",
       "    </tr>\n",
       "    <tr>\n",
       "      <th>997</th>\n",
       "      <td>female</td>\n",
       "      <td>59</td>\n",
       "      <td>71</td>\n",
       "      <td>65</td>\n",
       "    </tr>\n",
       "  </tbody>\n",
       "</table>\n",
       "<p>410 rows × 4 columns</p>\n",
       "</div>"
      ],
      "text/plain": [
       "     gender  math score  reading score  writing score\n",
       "0    female          72             72             74\n",
       "8      male          64             64             67\n",
       "10     male          58             54             52\n",
       "13     male          78             72             70\n",
       "20     male          66             69             63\n",
       "..      ...         ...            ...            ...\n",
       "985    male          57             51             54\n",
       "993  female          62             72             74\n",
       "994    male          63             63             62\n",
       "996    male          62             55             55\n",
       "997  female          59             71             65\n",
       "\n",
       "[410 rows x 4 columns]"
      ]
     },
     "execution_count": 19,
     "metadata": {},
     "output_type": "execute_result"
    }
   ],
   "source": [
    "import pandas as pd\n",
    "# Provide the path to your CSV file\n",
    "csv_file_path = 'StudentsPerformance.csv' # Replace with the actual path to your CSV file\n",
    "col=['gender','math score','reading score','writing score']\n",
    "# # Use read_csv to read the data from the CSV file into a DataFrame\n",
    "df = pd.read_csv(csv_file_path,usecols=col)\n",
    "\n",
    "df.query('`math score`>=55 and `reading score`<75',inplace=True)\n",
    "df\n"
   ]
  },
  {
   "cell_type": "code",
   "execution_count": null,
   "id": "36474f02-a633-4b92-be80-0edec6c96409",
   "metadata": {},
   "outputs": [],
   "source": []
  }
 ],
 "metadata": {
  "kernelspec": {
   "display_name": "Python 3 (ipykernel)",
   "language": "python",
   "name": "python3"
  },
  "language_info": {
   "codemirror_mode": {
    "name": "ipython",
    "version": 3
   },
   "file_extension": ".py",
   "mimetype": "text/x-python",
   "name": "python",
   "nbconvert_exporter": "python",
   "pygments_lexer": "ipython3",
   "version": "3.12.4"
  }
 },
 "nbformat": 4,
 "nbformat_minor": 5
}
