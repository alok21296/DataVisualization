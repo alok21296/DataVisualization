{
 "cells": [
  {
   "cell_type": "code",
   "execution_count": null,
   "id": "e7c0fb31-4b47-45e1-b431-28d12e84433d",
   "metadata": {},
   "outputs": [],
   "source": [
    "#File Handling \n",
    "# Opening a File--------------------------------------------------------------------------------------------------------\n",
    "# Before working with a file, you need to open it using the open() function, which returns a file object. The syntax is:\n",
    "# file_object = open(filename, mode)\n",
    "# filename: The name of the file you want to open.\n",
    "# mode: A string indicating the mode in which the file is opened.\n",
    "#Generally there are two types of files-Text file and Binary File\n",
    "#There are 6 modes for the binary and 6 for text files.\n",
    "#If mode is not passed the files opens in read mode by default \n",
    "#If there is no existing file then read mode gives an error but the write mode creates a new file.\n",
    "#'r': Read from the start of the file.\n",
    "#TEXT  MODES\n",
    "# 'r': Read from the start of the file.\n",
    "# 'w': Write, truncating the file.\n",
    "# 'a': Append to the end of the file.\n",
    "# 'r+': Read and write from the start of the file.\n",
    "# 'w+': Write and read, truncating the file.\n",
    "# 'a+': Append and read from the end of the file.\n",
    "# BINARY MODES \n",
    "# 'rb': Read from the start of the binary file.\n",
    "# 'wb': Write, truncating the binary file.\n",
    "# 'ab': Append to the end of the binary file.\n",
    "# 'rb+': Read and write from the start of the binary file.\n",
    "# 'wb+': Write and read, truncating the binary file.\n",
    "# 'ab+': Append and read from the end of the binary file.\n",
    "\n",
    "\n",
    "#Closing a file \n",
    "# file = open('example.txt', 'r')\n",
    "\n",
    "# # Performing file operations\n",
    "# content = file.read()\n",
    "\n",
    "# # Closing the file--------------------------------------------------------------------------------------------------------\n",
    "# file.close()\n",
    "\n",
    "# Why Closing a File is Important\n",
    "# Resource Management: Files are resources that consume system memory and other resources. Properly closing a file frees up these resources.\n",
    "\n",
    "# Data Integrity: Closing a file ensures that all buffered data is written to the file, preserving data integrity. Incomplete data \n",
    "# may be written if the file is not properly closed.\n",
    "\n",
    "# Preventing File Corruption: Properly closing a file helps prevent file corruption, especially when writing to a file. Unclosed files may\n",
    "#lead to data loss or corruption.\n",
    "\n",
    "# Concurrency: Closing a file allows other programs or parts of the same program to access the file without conflicts, \n",
    "# improving concurrency and collaboration.\n",
    "\n",
    "\n",
    "#Auto close file \n",
    "#Using the with Statement\n",
    "# The with statement in Python is used to simplify file handling and ensure that the file is properly closed after \n",
    "# its block of code is executed, even if an exception is raised. This method is more concise and considered best practice.\n",
    "# # Using with statement\n",
    "# with open('example.txt', 'r') as file:\n",
    "#     content = file.read()\n",
    "# # File is automatically closed here"
   ]
  },
  {
   "cell_type": "code",
   "execution_count": null,
   "id": "c2812496-d94c-4cc0-ab8e-8669a3292a46",
   "metadata": {},
   "outputs": [],
   "source": [
    "file_path=\"Desktop/DAVIS/lectures/alok.txt\"\n",
    "search_keyword=input(\"Enter the text which you want to search\")\n",
    "with open(file_path,\"r\") as file:\n",
    "    for line in file:\n",
    "        if search_keyword.lower() in line.lower():\n",
    "            print(line.strip())\n",
    "\n",
    "print(\"search for '{search_keyword}' completed\")"
   ]
  }
 ],
 "metadata": {
  "kernelspec": {
   "display_name": "Python 3 (ipykernel)",
   "language": "python",
   "name": "python3"
  },
  "language_info": {
   "codemirror_mode": {
    "name": "ipython",
    "version": 3
   },
   "file_extension": ".py",
   "mimetype": "text/x-python",
   "name": "python",
   "nbconvert_exporter": "python",
   "pygments_lexer": "ipython3",
   "version": "3.12.4"
  }
 },
 "nbformat": 4,
 "nbformat_minor": 5
}
