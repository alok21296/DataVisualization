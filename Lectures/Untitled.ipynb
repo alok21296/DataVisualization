{
 "cells": [
  {
   "cell_type": "code",
   "execution_count": null,
   "id": "c1858623-8ee2-482d-b9a1-933c1d13fdc4",
   "metadata": {},
   "outputs": [],
   "source": [
    "#pickle function\n",
    "# f=open(\"alok.dat\",\"wb\")\n",
    "# li=[10,20,60,80,90]\n",
    "# pickle.dump(li,f)\n",
    "\n",
    "\n",
    "# f=open(\"alok.dat\",\"wb\")\n",
    "# data=pickle.load(f)\n",
    "# print(data)\n",
    "# f.close()"
   ]
  },
  {
   "cell_type": "code",
   "execution_count": 5,
   "id": "2e4fbcc7-ac8a-4b88-a2bc-28b448c8e74c",
   "metadata": {},
   "outputs": [],
   "source": [
    "#csv file (Comma separated value file )\n",
    "#writing in a csv file \n",
    "import csv\n",
    "f=open(\"alok.csv\",'a',newline='')\n",
    "wo=csv.writer(f)\n",
    "data=[[\"a\",\"b\",\"c\"],[\"1\",\"2\",\"3\"]]\n",
    "wo.writerows(data)\n",
    "f.close()\n",
    "\n",
    "\n"
   ]
  }
 ],
 "metadata": {
  "kernelspec": {
   "display_name": "Python 3 (ipykernel)",
   "language": "python",
   "name": "python3"
  },
  "language_info": {
   "codemirror_mode": {
    "name": "ipython",
    "version": 3
   },
   "file_extension": ".py",
   "mimetype": "text/x-python",
   "name": "python",
   "nbconvert_exporter": "python",
   "pygments_lexer": "ipython3",
   "version": "3.12.4"
  }
 },
 "nbformat": 4,
 "nbformat_minor": 5
}
